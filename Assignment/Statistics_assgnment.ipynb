{
  "nbformat": 4,
  "nbformat_minor": 0,
  "metadata": {
    "colab": {
      "provenance": []
    },
    "kernelspec": {
      "name": "python3",
      "display_name": "Python 3"
    },
    "language_info": {
      "name": "python"
    }
  },
  "cells": [
    {
      "cell_type": "markdown",
      "source": [
        "## Question 1"
      ],
      "metadata": {
        "id": "PWPs_OIykECQ"
      }
    },
    {
      "cell_type": "markdown",
      "source": [
        "Statistics is the branch of mathematics that involves collecting, analyzing, interpreting and presenting the data. It provide tools and methods for understanding and make sense of large amount of data to draw conclusion and make decision based on the data."
      ],
      "metadata": {
        "id": "5EDyWlChkIMy"
      }
    },
    {
      "cell_type": "markdown",
      "source": [
        "## Question 2"
      ],
      "metadata": {
        "id": "cgIEQY1zmC_z"
      }
    },
    {
      "cell_type": "markdown",
      "source": [
        "There are two type of statistics :-\n",
        "* Descriptive Statistics :- Descriptive statistic deal with the collecting, organnzing, analyzing, interpreting and presenting data. It focusess on summarising and describing the main features of data ,without making prediction and inferences about the large population.\n",
        "* Inferential Statistics :- Inferential statistics deal with making conclusing and predictions about the population based on the sample data. It use probability theory to estimate the likelihood of certain event occuring. Hypothesis testing if certain claims about the population supported by the data, and regression analysis to exmine the relationship between two variable.\n"
      ],
      "metadata": {
        "id": "HZM8BQoYmCxB"
      }
    },
    {
      "cell_type": "markdown",
      "source": [
        "## Question 3"
      ],
      "metadata": {
        "id": "S36oaitXuagx"
      }
    },
    {
      "cell_type": "markdown",
      "source": [
        "Data can be classified into various types based on different criteria, including the format, nature, and level of measurement. The major types of data are:\n",
        "\n",
        "## Qualitative data :\n",
        "\n",
        "* Nominal Data: Nominal data is qualitative data that does not have a natural order or ranking. It represents categories or labels. Each data point is unique and cannot be arranged in any specific order.\n",
        "Example: Colors of cars (Red, Blue, Green, etc.). Each color is distinct, and there is no inherent order or ranking between them.\n",
        "\n",
        "* Ordinal Data: Ordinal data is qualitative data that has a natural order but lacks meaningful numerical intervals. It involves categories that can be ranked or ordered.\n",
        "Example: Educational levels (High School, Bachelor's, Master's, PhD). While there is an order to these categories, the difference between each level is not necessarily uniform.\n",
        "\n",
        "## Quantitative data\n",
        "\n",
        "* Discrete Data: Discrete data consists of whole numbers or counts and represents distinct values. It cannot take on intermediate values between data points.\n",
        "Example: The number of students in a class (e.g., 25 students, not 25.5 students).\n",
        "\n",
        "* Continuous Data: Continuous data is measured on a continuous scale and can take any value within a given range. It includes decimal numbers and is not limited to whole numbers.\n",
        "Example: Temperature measured in decimals (e.g., 25.5°C) or weight measured in kilograms (e.g., 65.2 kg)."
      ],
      "metadata": {
        "id": "oc8cxbUnucXz"
      }
    },
    {
      "cell_type": "markdown",
      "source": [
        "## Question 4"
      ],
      "metadata": {
        "id": "stID-WpqwsLE"
      }
    },
    {
      "cell_type": "markdown",
      "source": [
        "1. Ordinal data\n",
        "2. Nominal data\n",
        "3. Continous data\n",
        "4. Discrete data"
      ],
      "metadata": {
        "id": "GXDxywjPy7-5"
      }
    },
    {
      "cell_type": "markdown",
      "source": [
        "## Question 5"
      ],
      "metadata": {
        "id": "guHWE5A-6ik0"
      }
    },
    {
      "cell_type": "markdown",
      "source": [
        "\n",
        "Levels of measurement, also known as scales of measurement or data levels, refer to the way in which data is measured or classified. There are four primary levels of measurement, each with distinct characteristics and implications for data analysis:\n",
        "\n",
        "1. Nominal Level: At the nominal level, data is categorized into distinct groups or classes without any inherent order or numerical value. Nominal data is qualitative and involves labels or names for different categories.\n",
        "Example: Eye colors (Blue, Brown, Green) or Marital Status (Single, Married, Divorced).\n",
        "\n",
        "2. Ordinal Level: The ordinal level involves data that has a natural order or ranking, but the intervals between categories may not be uniform or precisely quantifiable. While we can determine relative rankings, we cannot calculate meaningful differences between values.\n",
        "Example: Educational levels (Elementary, Middle School, High School, College, Graduate School) or Movie ratings (1 star, 2 stars, 3 stars, 4 stars, 5 stars).\n",
        "\n",
        "3. Interval Level: Data at the interval level is quantitative and has consistent intervals between values, but it lacks a true zero point. This means that while we can measure the differences between data points, we cannot say there is an absence of the characteristic represented by 0.\n",
        "Example: Temperature in Celsius or Fahrenheit. The difference between 20°C and 30°C is the same as the difference between 30°C and 40°C, but 0°C does not signify the absence of temperature.\n",
        "\n",
        "4. Ratio Level: The ratio level is the highest level of measurement and has all the characteristics of the other three levels. It is quantitative and has a true zero point, allowing for meaningful ratios between values.\n",
        "Example: Height, weight, or age. A person who is 180 cm tall is twice as tall as someone who is 90 cm tall, and a weight of 60 kg is half the weight of someone weighing 120 kg.\n"
      ],
      "metadata": {
        "id": "TqeFPQGg6lWB"
      }
    },
    {
      "cell_type": "markdown",
      "source": [],
      "metadata": {
        "id": "GQckmtFz-J9b"
      }
    },
    {
      "cell_type": "markdown",
      "source": [
        "## Question 6"
      ],
      "metadata": {
        "id": "PMsJ-a7R65og"
      }
    },
    {
      "cell_type": "markdown",
      "source": [
        "Understanding the level of measurement of a variable is important because it determines the types of statistical analyses that can be performed and the appropriate interpretation of the results. In other words, the level of measurement helps researchers to identify the appropriate statistical procedures and tests to use when analyzing data. Using wrong statistical procedure for a given level of measurement can result in misleading or inaccurate conclusions.\n",
        "\n",
        "For example, let's consider a study that examines relationship between income and job satisfaction among employees in a company. The income variable is a ratio-level variable because it has a true zero point (no income) and equal intervals between values. In contrast, job satisfaction is an ordinal-level variable because it has a specific order or rank, but unequal or non-meaningful differences between categories.\n",
        "\n",
        "If the researcher were to use correlation analysis to examine the relationship between these two variables, the result would be incorrect because correlation is only appropriate for ratio-level variables.\n",
        "Instead, a more appropriate statistical test for analyzing the relationship between a ratio-level and ordinal-level variable would be chi-squared test or a t-test."
      ],
      "metadata": {
        "id": "jogJ6WYs69Ai"
      }
    },
    {
      "cell_type": "markdown",
      "source": [
        "## Question 7"
      ],
      "metadata": {
        "id": "O_fMIQeP8kQ9"
      }
    },
    {
      "cell_type": "markdown",
      "source": [
        "1. Nominal Level: At the nominal level, data is categorized into distinct groups or classes without any inherent order or numerical value. Nominal data is qualitative and involves labels or names for different categories.\n",
        "Example: Eye colors (Blue, Brown, Green) or Marital Status (Single, Married, Divorced).\n",
        "\n",
        "2. Ordinal Level: The ordinal level involves data that has a natural order or ranking, but the intervals between categories may not be uniform or precisely quantifiable. While we can determine relative rankings, we cannot calculate meaningful differences between values.\n",
        "Example: Educational levels (Elementary, Middle School, High School, College, Graduate School) or Movie ratings (1 star, 2 stars, 3 stars, 4 stars, 5 stars)."
      ],
      "metadata": {
        "id": "RlYJt1H2_EgK"
      }
    },
    {
      "cell_type": "markdown",
      "source": [
        "## Question 8"
      ],
      "metadata": {
        "id": "BSbYPT2T_Hkw"
      }
    },
    {
      "cell_type": "markdown",
      "source": [
        "The Boxplot is used to display data in terms of range. It summarise the data in 5 points i.e. minimum value, 25th percentile, 50 percentile, 75 percentile, maximum value.\n",
        "\n",
        "Box plots are particularly useful for comparing the range and distribution of different groups of data, as multiple box plots can be displayed side by side for comparison. They are also useful for identifying outliers, which are values that fall outside the minimum or maximum range of the dataset.\n"
      ],
      "metadata": {
        "id": "UwkyxdDe_jws"
      }
    },
    {
      "cell_type": "markdown",
      "source": [
        "## Question 9"
      ],
      "metadata": {
        "id": "hRQB7897AiqK"
      }
    },
    {
      "cell_type": "markdown",
      "source": [
        "1. Descriptive Statistics:\n",
        "Descriptive statistics involves the methods used to summarize and describe the main features of a dataset. These statistics help to organize and present the data in a meaningful way, providing a clear and concise summary of its characteristics. Descriptive statistics do not involve making inferences or generalizations beyond the data itself. They are primarily used to describe and understand the dataset, making it more manageable and interpretable.\n",
        "\n",
        "  Example of Descriptive Statistics:\n",
        "Let's consider a dataset of exam scores of students in a class. Descriptive statistics for this dataset could include measures like the mean (average) score, the median (middle value), the mode (most frequent value), the range (difference between the highest and lowest scores), and the standard deviation (measure of data dispersion). These statistics would give a comprehensive overview of how the students performed on the exam.\n",
        "\n",
        "2. Inferential Statistics:\n",
        "Inferential statistics, on the other hand, involves drawing conclusions and making predictions or inferences about a larger population based on a sample of data. These statistics use probability theory and sampling techniques to estimate population parameters and test hypotheses. Inferential statistics allow researchers to make generalizations beyond the observed data, but there is always some degree of uncertainty involved due to sampling variability.\n",
        "\n",
        "  Example of Inferential Statistics:\n",
        "Continuing with the previous example of exam scores, suppose we want to infer the average exam score for all students in the school (population) based on the scores of a randomly selected sample of students. Inferential statistics can be used to calculate a confidence interval for the population mean, which provides a range of values within which we believe the true population mean lies with a certain level of confidence. Additionally, inferential statistics can be employed to test hypotheses, such as whether there is a significant difference in exam scores between two different classes or groups."
      ],
      "metadata": {
        "id": "RqJAd6NTAoAv"
      }
    },
    {
      "cell_type": "markdown",
      "source": [
        "## Question 10"
      ],
      "metadata": {
        "id": "2QJX3WDgBrHv"
      }
    },
    {
      "cell_type": "markdown",
      "source": [
        "Measures of central tendency and variability are used in statistics to summarize data. Measures of central tendency show where the center or middle of the data set is located. Examples of measures of central tendency are the mean, median, and mode. The mean is the sum of all values divided by the total number of values. The median is the middle number in an ordered dataset. The mode is the most frequent value.\n",
        "\n",
        "Measures of variation show the dispersion or spread among data values. Examples of measures of variation are standard deviation, variance, minimum and maximum variables, kurtosis, and skewness.\n",
        "\n",
        "The mean is useful when you want to know the average value of a dataset. The median is useful when you want to know the middle value of a dataset. The mode is useful when you want to know the most frequent value in a dataset.\n",
        "\n",
        "The standard deviation is useful when you want to know how much variation there is from the mean value in a dataset. The variance is useful when you want to know how much variation there is from the mean value in a dataset squared."
      ],
      "metadata": {
        "id": "td6wDSMtBveN"
      }
    },
    {
      "cell_type": "code",
      "execution_count": null,
      "metadata": {
        "id": "tM9-7DEkQBr7"
      },
      "outputs": [],
      "source": []
    }
  ]
}