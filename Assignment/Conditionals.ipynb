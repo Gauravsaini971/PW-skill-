{
 "cells": [
  {
   "cell_type": "code",
   "execution_count": 1,
   "id": "584b844b-a7f0-4713-869f-0915c90fa964",
   "metadata": {},
   "outputs": [],
   "source": [
    "a = 10 \n",
    "if a > 10 :\n",
    "     print(\"yes a is greater than 10\")"
   ]
  },
  {
   "cell_type": "code",
   "execution_count": 2,
   "id": "6b3cf8c6-0545-4d8b-ac79-079cb859ac30",
   "metadata": {},
   "outputs": [
    {
     "name": "stdout",
     "output_type": "stream",
     "text": [
      "yes a is grater than equal to 10.\n"
     ]
    }
   ],
   "source": [
    "if a >= 10 :\n",
    "     print(\"yes a is grater than equal to 10.\")"
   ]
  },
  {
   "cell_type": "code",
   "execution_count": 4,
   "id": "aea9782a-b2a8-41e6-9424-544632cd51f6",
   "metadata": {},
   "outputs": [
    {
     "name": "stdout",
     "output_type": "stream",
     "text": [
      "yes b is lesser than 40\n"
     ]
    }
   ],
   "source": [
    "b = 20 \n",
    "if b > 39 :\n",
    "    print(\"ye b is greater than 30\")\n",
    "elif b <40:\n",
    "    print(\"yes b is lesser than 40\")\n",
    "else :\n",
    "    print(\"This is my default\")"
   ]
  },
  {
   "cell_type": "code",
   "execution_count": 6,
   "id": "b6e50ed0-4a0f-4087-b4ef-c731c9f99651",
   "metadata": {},
   "outputs": [
    {
     "name": "stdin",
     "output_type": "stream",
     "text": [
      " 145\n"
     ]
    },
    {
     "data": {
      "text/plain": [
       "145"
      ]
     },
     "execution_count": 6,
     "metadata": {},
     "output_type": "execute_result"
    }
   ],
   "source": [
    "int(input())"
   ]
  },
  {
   "cell_type": "code",
   "execution_count": 7,
   "id": "7ac234d9-0ff7-4387-b205-1ff1879a78a3",
   "metadata": {},
   "outputs": [
    {
     "name": "stdin",
     "output_type": "stream",
     "text": [
      " 15\n"
     ]
    },
    {
     "name": "stdout",
     "output_type": "stream",
     "text": [
      "yes b is lesser than 40\n"
     ]
    }
   ],
   "source": [
    " b = int(input())\n",
    "if b > 39 :\n",
    "    print(\"ye b is greater than 30\")\n",
    "elif b <20:\n",
    "    print(\"yes b is lesser than 40\")\n",
    "else :\n",
    "    print(\"This is my default\")"
   ]
  },
  {
   "cell_type": "code",
   "execution_count": 10,
   "id": "a7e1c05a-f11e-4367-aa2b-393d623385cc",
   "metadata": {},
   "outputs": [
    {
     "name": "stdout",
     "output_type": "stream",
     "text": [
      "1\n",
      "2\n"
     ]
    }
   ],
   "source": [
    "n = 4 \n",
    "i = 1 \n",
    "while i < n :\n",
    "    print(i)\n",
    "    i = i +1\n",
    "    if i ==3 :\n",
    "        break\n",
    "else :\n",
    "    print(\"the is my else\")"
   ]
  },
  {
   "cell_type": "code",
   "execution_count": 12,
   "id": "4786761f-d9c1-4b6c-aa43-a5fb429de571",
   "metadata": {},
   "outputs": [
    {
     "name": "stdout",
     "output_type": "stream",
     "text": [
      "s\n",
      "u\n",
      "d\n",
      "b\n"
     ]
    }
   ],
   "source": [
    "s = \"sudb\"\n",
    "for i in s :\n",
    "    print(i)"
   ]
  },
  {
   "cell_type": "code",
   "execution_count": 20,
   "id": "5706707b-7784-44ff-915c-b735aec8efb8",
   "metadata": {},
   "outputs": [
    {
     "name": "stdout",
     "output_type": "stream",
     "text": [
      "<class 'int'>\n",
      "<class 'int'>\n",
      "<class 'int'>\n",
      "<class 'int'>\n",
      "<class 'int'>\n"
     ]
    }
   ],
   "source": [
    "l = [2,3,4,5,6,\"pw skill\",True,78.45]\n",
    "for i in l :\n",
    "     print(type(i))\n",
    "     if i == 6:\n",
    "            break\n",
    "else : \n",
    "    print(\"this will be executed once for loop will complete itself sucsessfully\")"
   ]
  },
  {
   "cell_type": "code",
   "execution_count": 2,
   "id": "dce62433-83ec-4cb3-9800-8ffa5945261b",
   "metadata": {},
   "outputs": [
    {
     "name": "stdout",
     "output_type": "stream",
     "text": [
      "<class 'int'>\n",
      "2\n",
      "<class 'int'>\n",
      "3\n",
      "<class 'int'>\n",
      "4\n",
      "<class 'int'>\n",
      "5\n",
      "<class 'int'>\n",
      "<class 'str'>\n",
      "pw skill\n",
      "<class 'bool'>\n",
      "True\n",
      "<class 'float'>\n",
      "78.45\n",
      "this will be executed once for loop will complete itself sucsessfully\n"
     ]
    }
   ],
   "source": [
    "l = [2,3,4,5,6,\"pw skill\",True,78.45]\n",
    "for i in l :\n",
    "     print(type(i))\n",
    "     if i == 6:\n",
    "        continue\n",
    "     print(i)\n",
    "            \n",
    "else : \n",
    "    print(\"this will be executed once for loop will complete itself sucsessfully\")"
   ]
  },
  {
   "cell_type": "code",
   "execution_count": null,
   "id": "a8e9b57f-1c68-4363-8e59-556b40e8c53f",
   "metadata": {},
   "outputs": [],
   "source": []
  }
 ],
 "metadata": {
  "kernelspec": {
   "display_name": "Python 3 (ipykernel)",
   "language": "python",
   "name": "python3"
  },
  "language_info": {
   "codemirror_mode": {
    "name": "ipython",
    "version": 3
   },
   "file_extension": ".py",
   "mimetype": "text/x-python",
   "name": "python",
   "nbconvert_exporter": "python",
   "pygments_lexer": "ipython3",
   "version": "3.10.8"
  }
 },
 "nbformat": 4,
 "nbformat_minor": 5
}
