{
  "nbformat": 4,
  "nbformat_minor": 0,
  "metadata": {
    "colab": {
      "provenance": []
    },
    "kernelspec": {
      "name": "python3",
      "display_name": "Python 3"
    },
    "language_info": {
      "name": "python"
    }
  },
  "cells": [
    {
      "cell_type": "markdown",
      "source": [
        "## Question 1"
      ],
      "metadata": {
        "id": "obdaU7wEV5ve"
      }
    },
    {
      "cell_type": "markdown",
      "source": [
        "The exxception is the event, which occur during the excutions of program that disturpt the normal flow of the program instructions.\n",
        "\n",
        "Error in Python can be of two types i.e. Syntax errors and Exceptions. Errors are problems in a program due to which the program will stop the execution. On the other hand, exceptions are raised when some internal events occur which change the normal flow of the program."
      ],
      "metadata": {
        "id": "nSihm5SHWAN_"
      }
    },
    {
      "cell_type": "markdown",
      "source": [
        "## Question 2"
      ],
      "metadata": {
        "id": "IKeb6_0afN59"
      }
    },
    {
      "cell_type": "markdown",
      "source": [
        "When an exception is not handled in Python, the Python interpreter stops the current process and passes it to the calling process until it is handled. If the exception is not handled, the program will give an error.\n",
        "\n",
        "For example, AssertionError exceptions can be caught and handled like any other exception using the try-except statement, but if not handled, they will terminate the program"
      ],
      "metadata": {
        "id": "tduT7_lKe2jI"
      }
    },
    {
      "cell_type": "markdown",
      "source": [
        "## Question 3"
      ],
      "metadata": {
        "id": "0iSONKoKlLRP"
      }
    },
    {
      "cell_type": "markdown",
      "source": [
        "The \"try\" and \"except\" are used to catch and handle the exception.\n",
        "\n",
        "* try statement contains the code which may throw an exception .\n",
        "* except statement contain a code that which handle the exception thrown by the try statement.\n"
      ],
      "metadata": {
        "id": "XvTDjen2lOp2"
      }
    },
    {
      "cell_type": "code",
      "source": [
        "# For example :-\n",
        "list1 = [1,2,3,4,\"gaurav\"]\n",
        "for i in list1:\n",
        "  try :\n",
        "    a = i + 10\n",
        "    print(a)\n",
        "  except:\n",
        "    print(\"The input is not integer\")\n"
      ],
      "metadata": {
        "colab": {
          "base_uri": "https://localhost:8080/"
        },
        "id": "glbbmnWiftxp",
        "outputId": "21806546-0e6b-4b78-bb13-38c210809b76"
      },
      "execution_count": null,
      "outputs": [
        {
          "output_type": "stream",
          "name": "stdout",
          "text": [
            "11\n",
            "12\n",
            "13\n",
            "14\n",
            "The input is not integer\n"
          ]
        }
      ]
    },
    {
      "cell_type": "markdown",
      "source": [
        "## Question 4"
      ],
      "metadata": {
        "id": "YXXUUhK7oxmB"
      }
    },
    {
      "cell_type": "markdown",
      "source": [
        "The try statement allows you to define a block of code to be tested for errors while it is being executed.\n",
        "\n",
        "The else statement if there exception or error not handle by except statement.\n",
        "\n",
        "The finally statement caontain the block of code which always going to be excuted.\n",
        "\n",
        "The raise keyword raises an error and stops the control flow of the program. It is used to bring up the current exception in an exception handler so that it can be handled further up the call stack"
      ],
      "metadata": {
        "id": "Q-Qq9890o0Fr"
      }
    },
    {
      "cell_type": "markdown",
      "source": [
        "## Quesstion 5"
      ],
      "metadata": {
        "id": "JohXKX_iuINi"
      }
    },
    {
      "cell_type": "markdown",
      "source": [
        "The custom exceptions are user defined exception that can raise the based on certain condition determined by the user.\n",
        "\n",
        "Custom exceptionn are useful when you want to raise an exception which is specifically related to your application or to your project.The custom exception handlin help in\n",
        "\n",
        "# For example :-\n",
        "\n",
        "Suppose you developing a program which convert temperature fahrenheit to celsius. The minimum and maximum temperature in fahrenheit is 32 and 212 degrees.if the user enter the value which not in range, you can raise a custom exception like fahrenheit error."
      ],
      "metadata": {
        "id": "or1RRCqeuK_t"
      }
    },
    {
      "cell_type": "markdown",
      "source": [
        "## Question 6"
      ],
      "metadata": {
        "id": "vOVw0LE3w8aC"
      }
    },
    {
      "cell_type": "code",
      "source": [
        "class fahrenheit_temp(Exception):\n",
        "  def __init__(self, msg) :\n",
        "    self.msg = msg"
      ],
      "metadata": {
        "id": "b_tvlLg_5_MV"
      },
      "execution_count": 87,
      "outputs": []
    },
    {
      "cell_type": "code",
      "source": [
        "def farhenheit_temp_(temp):\n",
        "  if temp < 32 :\n",
        "    raise fahrenheit_temp(\"Tempartue is less than 32\")\n",
        "\n",
        "  elif temp > 212 :\n",
        "    raise fahrenheit_temp(\"Temperature is more than 212\")\n",
        "\n",
        "  else :\n",
        "    print(\"temperature is valid\")"
      ],
      "metadata": {
        "id": "A7DhXdt7A4mm"
      },
      "execution_count": 88,
      "outputs": []
    },
    {
      "cell_type": "code",
      "source": [
        "try :\n",
        "  temp = 1000\n",
        "  farhenheit_temp_(temp)\n",
        "except fahrenheit_temp as e:\n",
        "  print(e)"
      ],
      "metadata": {
        "colab": {
          "base_uri": "https://localhost:8080/"
        },
        "id": "kxO52YL7Cnce",
        "outputId": "6a67166f-c380-4487-b0af-1daa818f9025"
      },
      "execution_count": 90,
      "outputs": [
        {
          "output_type": "stream",
          "name": "stdout",
          "text": [
            "Temperature is more than 212\n"
          ]
        }
      ]
    },
    {
      "cell_type": "code",
      "source": [],
      "metadata": {
        "id": "WhEvI5nFDG3K"
      },
      "execution_count": null,
      "outputs": []
    }
  ]
}