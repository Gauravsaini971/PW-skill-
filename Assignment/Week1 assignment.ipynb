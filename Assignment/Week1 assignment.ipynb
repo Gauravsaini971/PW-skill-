{
 "cells": [
  {
   "cell_type": "markdown",
   "id": "bc1afc97-0076-4aea-a041-de72de92fe9f",
   "metadata": {},
   "source": [
    "# Question 1"
   ]
  },
  {
   "cell_type": "code",
   "execution_count": 4,
   "id": "cc2b8721-5cb3-408b-a094-caf89ba7ff6d",
   "metadata": {},
   "outputs": [],
   "source": [
    "str_var = \"My name is gaurav saini\"\n",
    "list_var = [1,2,3,\"Gaurav\",\"Star student\",\"Pw skills\",2.0,600000,True]\n",
    "float_var = 2.0\n",
    "tuple_var = (1,2,3,\"Gaurav\",\"Star student\",\"Pw skills\",2.0,600000,True)\n"
   ]
  },
  {
   "cell_type": "code",
   "execution_count": 5,
   "id": "33568f9a-13e0-45d3-ba1f-7e0887442921",
   "metadata": {},
   "outputs": [
    {
     "name": "stdout",
     "output_type": "stream",
     "text": [
      "My name is gaurav saini\n",
      "[1, 2, 3, 'Gaurav', 'Star student', 'Pw skills', 2.0, 600000, True]\n",
      "2.0\n",
      "(1, 2, 3, 'Gaurav', 'Star student', 'Pw skills', 2.0, 600000, True)\n"
     ]
    }
   ],
   "source": [
    "# print the variable\n",
    "print(str_var)\n",
    "print(list_var)\n",
    "print(float_var)\n",
    "print(tuple_var)"
   ]
  },
  {
   "cell_type": "markdown",
   "id": "3c9f8ad8-7c26-4d6f-a848-ea1745b3a04f",
   "metadata": {},
   "source": [
    "# Question 2"
   ]
  },
  {
   "cell_type": "code",
   "execution_count": 6,
   "id": "586709f3-d1d8-44ac-a302-19e9a7062f3c",
   "metadata": {},
   "outputs": [],
   "source": [
    "var1 = ''\n",
    "var2 = '[DL,ML,Python]'\n",
    "var3 = ['DL','ML','Python']\n",
    "var4 = 1."
   ]
  },
  {
   "cell_type": "code",
   "execution_count": 7,
   "id": "bdd194ca-6ef1-4711-96fc-6b5e1cff8e19",
   "metadata": {},
   "outputs": [
    {
     "name": "stdout",
     "output_type": "stream",
     "text": [
      "The following variable is  <class 'str'> , <class 'str'> , <class 'list'> , <class 'float'> .\n"
     ]
    }
   ],
   "source": [
    "type1 = type(var1)\n",
    "type2 = type(var2)\n",
    "type3 = type(var3)\n",
    "type4 = type(var4)\n",
    "print(\"The following variable is \",type1,\",\",type2,\",\",type3,\",\",type4,\".\")"
   ]
  },
  {
   "cell_type": "markdown",
   "id": "a9d51d40-61db-48c8-8f7d-ce17a3be26d2",
   "metadata": {},
   "source": [
    "# Question 3"
   ]
  },
  {
   "cell_type": "code",
   "execution_count": 8,
   "id": "902f36fc-dbd2-406a-988a-31826b9db79b",
   "metadata": {},
   "outputs": [
    {
     "name": "stdout",
     "output_type": "stream",
     "text": [
      "(i) / is used for division of 2 numbers for example :- 3/2 is  1.5\n",
      "(ii) % is known as modulus operator and it use to give the reminder of division for example :- 3%2 is  1\n",
      "(iii) // is used for floor division which gives the smallest interger value while division for example :- 5//2 is  2\n",
      "(iv) ** is used for exponential it is basically represent the exponential power of numeric term for example :- 5**2 is  25\n"
     ]
    }
   ],
   "source": [
    "print(\"(i) / is used for division of 2 numbers for example :- 3/2 is \",3/2)\n",
    "print(\"(ii) % is known as modulus operator and it use to give the reminder of division for example :- 3%2 is \",3%2)\n",
    "print(\"(iii) // is used for floor division which gives the smallest interger value while division for example :- 5//2 is \",5//2)\n",
    "print(\"(iv) ** is used for exponential it is basically represent the exponential power of numeric term for example :- 5**2 is \",5**2)\n"
   ]
  },
  {
   "cell_type": "markdown",
   "id": "48ece3ed-8069-4239-a599-0b288136951a",
   "metadata": {},
   "source": [
    "# Question 4"
   ]
  },
  {
   "cell_type": "code",
   "execution_count": 10,
   "id": "d5371372-edb3-401f-bebb-50d23efc00e5",
   "metadata": {},
   "outputs": [
    {
     "name": "stdout",
     "output_type": "stream",
     "text": [
      "<class 'int'>\n",
      "<class 'int'>\n",
      "<class 'int'>\n",
      "<class 'str'>\n",
      "<class 'str'>\n",
      "<class 'str'>\n",
      "<class 'float'>\n",
      "<class 'int'>\n",
      "<class 'bool'>\n",
      "<class 'complex'>\n"
     ]
    }
   ],
   "source": [
    "list_ = [1,2,3,\"Gaurav\",\"Star student\",\"Pw skills\",2.0,600000,True,2+3j]\n",
    "for i in list_:\n",
    "    print(type(i))"
   ]
  },
  {
   "cell_type": "markdown",
   "id": "f24adaa9-2da1-4d82-85ca-cbd71f1c5447",
   "metadata": {},
   "source": [
    "# Question 5 "
   ]
  },
  {
   "cell_type": "code",
   "execution_count": 12,
   "id": "12764311-4d83-421e-9ab4-003918633ce3",
   "metadata": {},
   "outputs": [
    {
     "name": "stdin",
     "output_type": "stream",
     "text": [
      " 100000\n",
      " 10\n"
     ]
    },
    {
     "name": "stdout",
     "output_type": "stream",
     "text": [
      "A is purelly divisible by B 5  times.\n"
     ]
    }
   ],
   "source": [
    "A = int(input())\n",
    "B = int(input())\n",
    "count = 0 \n",
    "while A%B == 0 :\n",
    "    count += 1\n",
    "    A = A/B\n",
    "    \n",
    "if count > 0:\n",
    "    print(\"A is purelly divisible by B\",count,\" times.\")\n",
    "else :\n",
    "    print(\"A is not purely divisible by B\")\n"
   ]
  },
  {
   "cell_type": "markdown",
   "id": "6e6cd648-3d75-47dd-a729-0e163c0bef43",
   "metadata": {},
   "source": [
    "# Question 6"
   ]
  },
  {
   "cell_type": "code",
   "execution_count": 15,
   "id": "072667ce-4d98-470e-85bc-54272571b3df",
   "metadata": {},
   "outputs": [
    {
     "name": "stdout",
     "output_type": "stream",
     "text": [
      "1  is not divisible by 3\n",
      "2  is not divisible by 3\n",
      "3  is divisible by 3\n",
      "4  is not divisible by 3\n",
      "5  is not divisible by 3\n",
      "6  is divisible by 3\n",
      "7  is not divisible by 3\n",
      "8  is not divisible by 3\n",
      "9  is divisible by 3\n",
      "10  is not divisible by 3\n",
      "11  is not divisible by 3\n",
      "12  is divisible by 3\n",
      "13  is not divisible by 3\n",
      "14  is not divisible by 3\n",
      "15  is divisible by 3\n",
      "16  is not divisible by 3\n",
      "17  is not divisible by 3\n",
      "18  is divisible by 3\n",
      "19  is not divisible by 3\n",
      "20  is not divisible by 3\n",
      "21  is divisible by 3\n",
      "22  is not divisible by 3\n",
      "23  is not divisible by 3\n",
      "24  is divisible by 3\n",
      "25  is not divisible by 3\n"
     ]
    }
   ],
   "source": [
    "Integer_list = list(range(1,26))\n",
    "for num in Integer_list:\n",
    "    if num%3 == 0:\n",
    "        print(num,\" is divisible by 3\")\n",
    "    else:\n",
    "              print(num,\" is not divisible by 3\")\n",
    "            \n"
   ]
  },
  {
   "cell_type": "markdown",
   "id": "4f8212e3-b428-4d41-bf80-5c32060cd435",
   "metadata": {},
   "source": [
    "# Question 7"
   ]
  },
  {
   "cell_type": "code",
   "execution_count": 16,
   "id": "188b03f9-a997-45dc-bb4f-65c5e7843427",
   "metadata": {},
   "outputs": [
    {
     "name": "stdout",
     "output_type": "stream",
     "text": [
      "In mutable data type, we can modify existing value of data type. We may add new value or remove the existing value from these lind of data type. for example :-\n",
      "[1, 2, 4, 56, 7, 8]\n",
      "[1, 2, 100, 56, 7, 8]\n"
     ]
    }
   ],
   "source": [
    "print(\"In mutable data type, we can modify existing value of data type. We may add new value or remove the existing value from these lind of data type. for example :-\")\n",
    "list_ = [1,2,4,56,7,8]\n",
    "print(list_)\n",
    "list_[2] = 100\n",
    "print(list_)"
   ]
  },
  {
   "cell_type": "code",
   "execution_count": 17,
   "id": "c8e4d597-87f9-4163-9161-6770cd396250",
   "metadata": {},
   "outputs": [
    {
     "name": "stdout",
     "output_type": "stream",
     "text": [
      "In immutable data type, we cannot modify the existing value of the data type. \n"
     ]
    },
    {
     "ename": "NameError",
     "evalue": "name 'c' is not defined",
     "output_type": "error",
     "traceback": [
      "\u001b[0;31m---------------------------------------------------------------------------\u001b[0m",
      "\u001b[0;31mNameError\u001b[0m                                 Traceback (most recent call last)",
      "Cell \u001b[0;32mIn[17], line 3\u001b[0m\n\u001b[1;32m      1\u001b[0m \u001b[38;5;28mprint\u001b[39m(\u001b[38;5;124m\"\u001b[39m\u001b[38;5;124mIn immutable data type, we cannot modify the existing value of the data type. \u001b[39m\u001b[38;5;124m\"\u001b[39m)\n\u001b[1;32m      2\u001b[0m str1 \u001b[38;5;241m=\u001b[39m \u001b[38;5;124m\"\u001b[39m\u001b[38;5;124mapple\u001b[39m\u001b[38;5;124m\"\u001b[39m\n\u001b[0;32m----> 3\u001b[0m str1[\u001b[38;5;241m1\u001b[39m] \u001b[38;5;241m=\u001b[39m \u001b[43mc\u001b[49m\n",
      "\u001b[0;31mNameError\u001b[0m: name 'c' is not defined"
     ]
    }
   ],
   "source": [
    "print(\"In immutable data type, we cannot modify the existing value of the data type. \")\n",
    "str1 = \"apple\"\n",
    "str1[1] = c"
   ]
  },
  {
   "cell_type": "code",
   "execution_count": null,
   "id": "1f7bb383-bbbe-40fa-8340-5459fe8371b2",
   "metadata": {},
   "outputs": [],
   "source": []
  }
 ],
 "metadata": {
  "kernelspec": {
   "display_name": "Python 3 (ipykernel)",
   "language": "python",
   "name": "python3"
  },
  "language_info": {
   "codemirror_mode": {
    "name": "ipython",
    "version": 3
   },
   "file_extension": ".py",
   "mimetype": "text/x-python",
   "name": "python",
   "nbconvert_exporter": "python",
   "pygments_lexer": "ipython3",
   "version": "3.10.8"
  }
 },
 "nbformat": 4,
 "nbformat_minor": 5
}
