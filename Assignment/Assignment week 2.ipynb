{
 "cells": [
  {
   "cell_type": "markdown",
   "id": "1c1fb3a5-6ec6-4a14-a5b4-1a93b01a588a",
   "metadata": {},
   "source": [
    "# Question 1"
   ]
  },
  {
   "cell_type": "code",
   "execution_count": 5,
   "id": "8c0c74df-2201-48f4-8e54-1f3762ffd4aa",
   "metadata": {},
   "outputs": [
    {
     "name": "stdout",
     "output_type": "stream",
     "text": [
      "Comments in Python are the lines in the code that are ignored by the interpreter during the execution of the program.Comments enhance the readability of the code and help the programmers to understand the code very carefully. There are three types of comments in Python –\n",
      "1.Single line comment\n",
      "2.Multiple line comment\n",
      "3.Docstring comment\n"
     ]
    }
   ],
   "source": [
    "print(\"Comments in Python are the lines in the code that are ignored by the interpreter during the execution of the program.Comments enhance the readability of the code and help the programmers to understand the code very carefully. There are three types of comments in Python –\")\n",
    "print(\"1.Single line comment\")\n",
    "print(\"2.Multiple line comment\")\n",
    "print(\"3.Docstring comment\")"
   ]
  },
  {
   "cell_type": "markdown",
   "id": "a2e86c9f-0d96-4da9-97dc-92f4984e33c0",
   "metadata": {},
   "source": [
    "# Question 2"
   ]
  },
  {
   "cell_type": "code",
   "execution_count": 15,
   "id": "7b65029b-f09d-496f-b163-45d8104011fa",
   "metadata": {},
   "outputs": [
    {
     "name": "stdout",
     "output_type": "stream",
     "text": [
      "variable is a storing unit of python that store different type of data assing to it.The variable is create the moment you first assign a value to it. A variable is a name given to memory location.\n",
      "To create a variable, You just assign it a value and then start using it. Assignment is done with a single equale sign(=).\n"
     ]
    }
   ],
   "source": [
    "#  Meaning of variable\n",
    "print(\"variable is a storing unit of python that store different type of data assing to it.The variable is create the moment you first assign a value to it. A variable is a name given to memory location.\")\n",
    "print(\"To create a variable, You just assign it a value and then start using it. Assignment is done with a single equale sign(=).\")\n"
   ]
  },
  {
   "cell_type": "code",
   "execution_count": 10,
   "id": "1b54d6f1-eb05-438f-936e-5c444c5bbcbe",
   "metadata": {},
   "outputs": [
    {
     "name": "stdout",
     "output_type": "stream",
     "text": [
      "5\n",
      "yash\n"
     ]
    }
   ],
   "source": [
    "# Declaring and assigning the value of a variable\n",
    "x = 5\n",
    "y = \"yash\"\n",
    "print(x)\n",
    "print(y)"
   ]
  },
  {
   "cell_type": "markdown",
   "id": "04c90d79-e2e1-4afc-8901-a43350c19487",
   "metadata": {},
   "source": [
    "# Question 3"
   ]
  },
  {
   "cell_type": "code",
   "execution_count": 17,
   "id": "c8c11d14-c4dc-4ed1-9b1c-88a168cc2600",
   "metadata": {},
   "outputs": [
    {
     "name": "stdout",
     "output_type": "stream",
     "text": [
      "In Python, you can convert one data type to another using type conversion. There are two types of type conversion in Python: implicit type conversion and explicit type conversion\n",
      "Implicit type conversion is done automatically by Python when it needs to convert one data type to another. For example, if you try to add an integer and a float, Python will automatically convert the integer to a float before performing the addition.\n",
      "Explicit type conversion is done manually by the programmer using built-in functions such as int(), float(), str(), etc. Here is an example:\n",
      "The datatype of x is  <class 'int'>\n",
      "The datatype of x is  <class 'str'>\n"
     ]
    }
   ],
   "source": [
    "print(\"In Python, you can convert one data type to another using type conversion. There are two types of type conversion in Python: implicit type conversion and explicit type conversion\")\n",
    "print(\"Implicit type conversion is done automatically by Python when it needs to convert one data type to another. For example, if you try to add an integer and a float, Python will automatically convert the integer to a float before performing the addition.\")\n",
    "print(\"Explicit type conversion is done manually by the programmer using built-in functions such as int(), float(), str(), etc. Here is an example:\")\n",
    "x = 5\n",
    "print(\"The datatype of x is \",type(x))\n",
    "x = str(x)\n",
    "print(\"The datatype of x is \", type(x))"
   ]
  },
  {
   "cell_type": "markdown",
   "id": "79cf2601-353b-4f57-855d-7c0c0e5901a5",
   "metadata": {},
   "source": [
    "# Question 4"
   ]
  },
  {
   "cell_type": "code",
   "execution_count": 1,
   "id": "d3c66830-d5e1-438c-89fe-ba21ad7c2965",
   "metadata": {},
   "outputs": [
    {
     "name": "stdout",
     "output_type": "stream",
     "text": [
      "To run python script with the python command, you need to open command line and type in the python world or python 3 if you have both version, followed by the path to your script.\n"
     ]
    }
   ],
   "source": [
    "print(\"To run python script with the python command, you need to open command line and type in the python world or python 3 if you have both version, followed by the path to your script.\")"
   ]
  },
  {
   "cell_type": "markdown",
   "id": "4cd06d18-0a37-42cf-b5bc-f4f1b6dc5d90",
   "metadata": {},
   "source": [
    "# Question 5"
   ]
  },
  {
   "cell_type": "code",
   "execution_count": 2,
   "id": "14098ec6-9152-460f-9ede-252a37c2bf01",
   "metadata": {},
   "outputs": [
    {
     "name": "stdout",
     "output_type": "stream",
     "text": [
      "[2, 3]\n"
     ]
    }
   ],
   "source": [
    "my_list = [1,2,3,4,5]\n",
    "print(my_list[1:3])"
   ]
  },
  {
   "cell_type": "markdown",
   "id": "61fe8d60-3be6-4e61-8d62-9e9a0cc99422",
   "metadata": {},
   "source": [
    "# Question 6"
   ]
  },
  {
   "cell_type": "code",
   "execution_count": 4,
   "id": "e219cbd6-e302-4d7a-89ce-9f9982223bf7",
   "metadata": {},
   "outputs": [
    {
     "name": "stdout",
     "output_type": "stream",
     "text": [
      "Complex number is the number that can be expressed in the form of a + bi where a and b are the real number and i is the imaginary unit.In python you can represent complex number in the built in complex() function.The fuctoin take two arguement: Real part of complex number and imaginary part of complex number. For example :-\n",
      "(2+3j)  is the complex number\n",
      "2.0 is the real part of complex number.\n",
      "3.0 is the imaginary part of complex number.\n"
     ]
    }
   ],
   "source": [
    "print(\"Complex number is the number that can be expressed in the form of a + bi where a and b are the real number and i is the imaginary unit.In python you can represent complex number in the built in complex() function.The fuctoin take two arguement: Real part of complex number and imaginary part of complex number. For example :-\")\n",
    "x = 2+3j\n",
    "print(x,\" is the complex number\")\n",
    "print(f\"{x.real} is the real part of complex number.\")\n",
    "print(f\"{x.imag} is the imaginary part of complex number.\")\n"
   ]
  },
  {
   "cell_type": "markdown",
   "id": "d6f277fc-e7b0-4030-a1fd-3ae745169e1d",
   "metadata": {},
   "source": [
    "# Question 7"
   ]
  },
  {
   "cell_type": "code",
   "execution_count": 8,
   "id": "b6c46eca-768d-4cfe-9cc7-9711c1466d7d",
   "metadata": {},
   "outputs": [
    {
     "name": "stdout",
     "output_type": "stream",
     "text": [
      "The correct way of declaring a variable :-\n",
      "1.The variable should start from alphabet.\n",
      "The variable should have any special character\n",
      "The variable should start with numerical or underscore\n",
      "25\n"
     ]
    }
   ],
   "source": [
    "print(\"The correct way of declaring a variable :-\")\n",
    "print(\"1.The variable should start from alphabet.\")\n",
    "print(\"The variable should have any special character\")\n",
    "print(\"The variable should start with numerical or underscore\")\n",
    "age = 25\n",
    "print(age)"
   ]
  },
  {
   "cell_type": "markdown",
   "id": "a55ce7ff-ff96-4fd2-bc1a-e140d76b11e5",
   "metadata": {},
   "source": [
    "# Question 8"
   ]
  },
  {
   "cell_type": "code",
   "execution_count": 12,
   "id": "b7545295-d203-4473-aaac-f03a714df23d",
   "metadata": {},
   "outputs": [
    {
     "name": "stdout",
     "output_type": "stream",
     "text": [
      "The datatype of price is <class 'float'>\n"
     ]
    }
   ],
   "source": [
    "price = 9.99\n",
    "print(f\"The datatype of price is {type(price)}\")"
   ]
  },
  {
   "cell_type": "markdown",
   "id": "4d50745e-6238-4308-8a65-af28320497cd",
   "metadata": {},
   "source": [
    "# Question 9"
   ]
  },
  {
   "cell_type": "code",
   "execution_count": 14,
   "id": "7c82febc-32d5-4d80-9881-55dec261695c",
   "metadata": {},
   "outputs": [
    {
     "name": "stdout",
     "output_type": "stream",
     "text": [
      "Gaurav saini\n"
     ]
    }
   ],
   "source": [
    "name = \"Gaurav saini\"\n",
    "'''\n",
    "Printing the variable name by using print statement\n",
    "'''\n",
    "print(name)"
   ]
  },
  {
   "cell_type": "markdown",
   "id": "d2186535-4d08-49f8-baa2-5607be3f75f5",
   "metadata": {},
   "source": [
    "# Question 10"
   ]
  },
  {
   "cell_type": "code",
   "execution_count": 17,
   "id": "6aa88b6c-af0d-4bec-a0a0-908d491f4e20",
   "metadata": {},
   "outputs": [
    {
     "data": {
      "text/plain": [
       "'World'"
      ]
     },
     "execution_count": 17,
     "metadata": {},
     "output_type": "execute_result"
    }
   ],
   "source": [
    "string = \"Hello, World!\"\n",
    "string[string.find(\"W\"):-1]"
   ]
  },
  {
   "cell_type": "markdown",
   "id": "58b889ff-4e01-4238-ae32-0ac0d10fcef6",
   "metadata": {},
   "source": [
    "# Question 11"
   ]
  },
  {
   "cell_type": "code",
   "execution_count": 18,
   "id": "4e296415-704b-4e0b-bde6-76148f133cfa",
   "metadata": {},
   "outputs": [
    {
     "name": "stdout",
     "output_type": "stream",
     "text": [
      "It is True that candidate is student\n"
     ]
    }
   ],
   "source": [
    "is_student = True \n",
    "if is_student:\n",
    "    print(f\"It is {is_student} that candidate is student\")\n",
    "else :\n",
    "    print(f\"It is {is_student} that candidate is student\")\n",
    "    "
   ]
  },
  {
   "cell_type": "code",
   "execution_count": null,
   "id": "496e4149-a2a5-431b-ae0c-29a93c5ad574",
   "metadata": {},
   "outputs": [],
   "source": []
  }
 ],
 "metadata": {
  "kernelspec": {
   "display_name": "Python 3 (ipykernel)",
   "language": "python",
   "name": "python3"
  },
  "language_info": {
   "codemirror_mode": {
    "name": "ipython",
    "version": 3
   },
   "file_extension": ".py",
   "mimetype": "text/x-python",
   "name": "python",
   "nbconvert_exporter": "python",
   "pygments_lexer": "ipython3",
   "version": "3.10.8"
  }
 },
 "nbformat": 4,
 "nbformat_minor": 5
}
