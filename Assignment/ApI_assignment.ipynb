{
  "nbformat": 4,
  "nbformat_minor": 0,
  "metadata": {
    "colab": {
      "provenance": []
    },
    "kernelspec": {
      "name": "python3",
      "display_name": "Python 3"
    },
    "language_info": {
      "name": "python"
    }
  },
  "cells": [
    {
      "cell_type": "markdown",
      "source": [
        "## Question 1"
      ],
      "metadata": {
        "id": "7sI7TT8KvEQv"
      }
    },
    {
      "cell_type": "markdown",
      "source": [
        "API stands for “Application Programming Interface”. It is a set of rules and protocols that allow different software applications to communicate with each other. APIs are used in real life in many ways. For example, when you use an app on your phone to check the weather, the app connects to a weather API to get the latest weather information. Another example is when you use Google Maps to find directions. Google Maps uses the Google Maps API to get the map data and directions."
      ],
      "metadata": {
        "id": "3e7ZhSi4vDH_"
      }
    },
    {
      "cell_type": "markdown",
      "source": [
        "## Question 2"
      ],
      "metadata": {
        "id": "T5f0raR6vd65"
      }
    },
    {
      "cell_type": "markdown",
      "source": [
        "APIs have many advantages and disadvantages. Some of the advantages of using APIs are:\n",
        "\n",
        "* Increased Interoperability: API solutions enable different software systems to communicate with each other, regardless of their programming language or platform. This enhances the interoperability between systems, allowing for the exchange of data and functionality.\n",
        "* Modularity: APIs bring a new level of modularity to applications. APIs allow developers to leverage the expertise of other applications.\n",
        "* Flexibility: API gateways provide flexibility to use completely independent protocols allowing your microservices to communicate among themselves with ease. They allow developers to access the functionality of a subset of architecture in many different ways, without ever exposing the endpoints publicly.\n",
        "\n",
        "Some of the disadvantages of using APIs are:\n",
        "\n",
        "* Security Risks: As a single point of entry, an API is a gateway and can become a hacker’s primary target. Once the API is compromised, all other applications and systems become vulnerable.\n",
        "* Complexity: APIs can be complex and difficult to use. Developers need to have a good understanding of the API’s documentation and how it works."
      ],
      "metadata": {
        "id": "PMq9Wx7tvghv"
      }
    },
    {
      "cell_type": "markdown",
      "source": [
        "## Question 3"
      ],
      "metadata": {
        "id": "rpn8cuoSweo1"
      }
    },
    {
      "cell_type": "markdown",
      "source": [
        "An API (Application Programming Interface) is a set of protocols and tools for building software applications. APIs are used to specify how software components should interact.\n",
        "\n",
        "A Web API is an API that can be accessed over the web using the HTTP protocol. It is a set of protocols and tools for building web applications and services.\n",
        "\n",
        "The main difference between an API and a Web API is that a Web API is accessed over the web using the HTTP protocol, while an API can be accessed over any protocol."
      ],
      "metadata": {
        "id": "EqJKS1itwhFU"
      }
    },
    {
      "cell_type": "markdown",
      "source": [
        "## Question 4"
      ],
      "metadata": {
        "id": "sPqSSbW6w28q"
      }
    },
    {
      "cell_type": "markdown",
      "source": [
        "REST (Representational State Transfer) and SOAP (Simple Object Access Protocol) are two different ways of communicating between systems. REST is an architectural style that does not need a web server and sends messages in single requests. It uses uniform resource identifiers (URIs) to expose specific portions of an application’s business logic on a server. REST is more data-driven and supports various data formats, including plain text, HTML, XML, and JSON.\n",
        "\n",
        "SOAP is a standardized protocol for transferring structured information that’s more function-driven and only uses XML. It employs a service interface to expose specific portions of an application’s business logic on a server. SOAP must be set up on a web server and sends messages in batches.\n",
        "\n",
        "The main difference between REST and SOAP is that SOAP is a protocol while REST is not. REST has basic security features built into it, while SOAP offers built-in security and transaction compliance that align with many enterprise needs.\n",
        "\n",
        "SOAP has some shortcomings such as being slower than REST due to its use of XML, which can be verbose and slow to parse. It also requires more bandwidth due to its use of XML."
      ],
      "metadata": {
        "id": "f8YtM1L4w5f0"
      }
    },
    {
      "cell_type": "markdown",
      "source": [
        "## Question 5"
      ],
      "metadata": {
        "id": "aE1VWT7zxwTq"
      }
    },
    {
      "cell_type": "markdown",
      "source": [
        "SOAP and REST are two different approaches to API design. The SOAP approach is highly structured and uses XML data format.\n",
        "\n",
        "REST is more flexible and allows applications to exchange data in multiple formats.REST is faster. Since SOAP is a protocol, it defines its own security measures. REST only inherits the security measures based on what protocol it uses for the implementation. SOAP is not commonly preferred, but they are used in cases which require stateful data transfer and more reliability."
      ],
      "metadata": {
        "id": "Ef2Z2_FFxyh7"
      }
    },
    {
      "cell_type": "code",
      "source": [],
      "metadata": {
        "id": "X8rJE1zAwgXB"
      },
      "execution_count": null,
      "outputs": []
    }
  ]
}