{
  "nbformat": 4,
  "nbformat_minor": 0,
  "metadata": {
    "colab": {
      "provenance": []
    },
    "kernelspec": {
      "name": "python3",
      "display_name": "Python 3"
    },
    "language_info": {
      "name": "python"
    }
  },
  "cells": [
    {
      "cell_type": "markdown",
      "source": [
        "## Question 1"
      ],
      "metadata": {
        "id": "HHPLgCK6yHF3"
      }
    },
    {
      "cell_type": "markdown",
      "source": [
        "Multithreading in Python is a way of achieving multitasking in Python using the concept of threads. It is very useful in speeding up computations, but it cannot be applied everywhere. We can do multithreading in Python, that is, executing multiple parts of the program at a time using the threading module.\n",
        "\n",
        "The threading module provides a way to create threads and run them concurrently. It is used for low-level threading operations and provides all the methods needed to create and manage threads.\n",
        "\n",
        "The module used to handle threads in Python is called threading."
      ],
      "metadata": {
        "id": "Db2DJ-ICyeFU"
      }
    },
    {
      "cell_type": "markdown",
      "source": [
        "## Question 2"
      ],
      "metadata": {
        "id": "XV-r7aJszM4C"
      }
    },
    {
      "cell_type": "markdown",
      "source": [
        "The threading module is used for creating, controlling and managing threads in Python.t is very useful in speeding up computations, but it cannot be applied everywhere. We can do multithreading in Python, that is, executing multiple parts of the program at a time using the threading module.\n",
        "\n",
        "* activeCount(): This function returns the number of thread objects that are active.\n",
        "* currentThread(): This function returns a list of all thread objects in the caller’s thread control.\n",
        "* enumerate(): This function returns a list of all thread objects that are currently active."
      ],
      "metadata": {
        "id": "hBFTLj_bEx-L"
      }
    },
    {
      "cell_type": "markdown",
      "source": [
        "## Question 3"
      ],
      "metadata": {
        "id": "EEsGc_coDFXh"
      }
    },
    {
      "cell_type": "markdown",
      "source": [
        "* run() : This method is the entry point for the thread. It is callled when thread is start using the start() method. You can overdrive this method in your own class to define thread should do when it starts.\n",
        "* start() : This method start the thread by calling its run() method. When you call this method the thread is created and then started.\n",
        "* join() : This method wait for the thread to complete.if you call this method on a thread, your program will block until that thread finished its work.\n",
        "* isAlive() : This method return True if the thread is still running and otherwise False"
      ],
      "metadata": {
        "id": "HmR33a3lz4Gz"
      }
    },
    {
      "cell_type": "markdown",
      "source": [
        "## Question 4"
      ],
      "metadata": {
        "id": "WHF7KmbjDDm7"
      }
    },
    {
      "cell_type": "code",
      "execution_count": 7,
      "metadata": {
        "id": "YBEA1aUkyFDV"
      },
      "outputs": [],
      "source": [
        "import time\n",
        "def get_square(arr):\n",
        "  for i in arr:\n",
        "    print(f\"square : {i**2}\")\n",
        "    time.sleep(0.2)\n",
        "\n",
        "def get_cube(arr):\n",
        "  for i in arr :\n",
        "    print(f\"cube : {i**2}\")\n",
        "    time.sleep(0.2)\n",
        "\n"
      ]
    },
    {
      "cell_type": "code",
      "source": [
        "import threading\n",
        "list_ = [1,2,3,4,5]\n",
        "square = threading.Thread(target = get_square,args =(list_,))\n",
        "cubes = threading.Thread(target = get_cube,args = (list_,))\n",
        "square.start()\n",
        "cubes.start()\n",
        "square.join()\n",
        "cubes.join()\n"
      ],
      "metadata": {
        "colab": {
          "base_uri": "https://localhost:8080/"
        },
        "id": "o32VShNS_4pn",
        "outputId": "f47c14d0-c4b0-4a68-d144-986943933902"
      },
      "execution_count": 8,
      "outputs": [
        {
          "output_type": "stream",
          "name": "stdout",
          "text": [
            "square : 1\n",
            "cube : 1\n",
            "square : 4\n",
            "cube : 4\n",
            "square : 9\n",
            "cube : 9\n",
            "square : 16\n",
            "cube : 16\n",
            "square : 25\n",
            "cube : 25\n"
          ]
        }
      ]
    },
    {
      "cell_type": "markdown",
      "source": [
        "## Question 5"
      ],
      "metadata": {
        "id": "619G4kriEKs7"
      }
    },
    {
      "cell_type": "markdown",
      "source": [
        "Multithreading has several advantages and disadvantages. Here are some of them:\n",
        "\n",
        "Advantages:\n",
        "\n",
        "* Enhanced performance by decreased development time\n",
        "* Simplified and streamlined program coding\n",
        "* Improvised GUI responsiveness\n",
        "* Simultaneous and parallelized occurrence of tasks\n",
        "* Better use of cache storage by utilization of resources\n",
        "* Decreased cost of maintenance\n",
        "* Better use of CPU resource\n",
        "\n",
        "Disadvantages:\n",
        "\n",
        "* Code writing, debugging, managing concurrency, testing, porting existing code is difficult in multithreading and multicontexting.\n",
        "* Programmers need to remove static variables and replace any code that is not thread-safe to introduce threading into a previously non-threaded application."
      ],
      "metadata": {
        "id": "QmDmtVnbDXKq"
      }
    },
    {
      "cell_type": "markdown",
      "source": [
        "## Question 6"
      ],
      "metadata": {
        "id": "XLmYMKkjENJ0"
      }
    },
    {
      "cell_type": "markdown",
      "source": [
        "Race Condition : A race condition is an incorrect behavior of a program due to concurrent execution of critical sections by two or more threads. For example, if thread 1 deletes an entry in a linked list while thread 2 is accessing the same entry.\n",
        "\n",
        "Deadlock : A deadlock occurs when two or more processes stop making progress indefinitely because they are all waiting for each other to do something."
      ],
      "metadata": {
        "id": "B5iOWITIEP1I"
      }
    },
    {
      "cell_type": "code",
      "source": [],
      "metadata": {
        "id": "UZhm4CqICTqG"
      },
      "execution_count": null,
      "outputs": []
    }
  ]
}