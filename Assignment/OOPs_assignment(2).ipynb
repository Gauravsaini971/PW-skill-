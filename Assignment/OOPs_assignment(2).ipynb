{
  "nbformat": 4,
  "nbformat_minor": 0,
  "metadata": {
    "colab": {
      "provenance": []
    },
    "kernelspec": {
      "name": "python3",
      "display_name": "Python 3"
    },
    "language_info": {
      "name": "python"
    }
  },
  "cells": [
    {
      "cell_type": "markdown",
      "source": [
        "## Question 1"
      ],
      "metadata": {
        "id": "P1DmI8xqCvrf"
      }
    },
    {
      "cell_type": "markdown",
      "source": [
        "Abstraction is the process of hiding the internal details of an application from the outer world. It is one of the fundamental concepts of object-oriented programming (OOP). Abstraction allows us to focus on what an object does instead of how it does it.\n",
        "\n",
        "In OOPs, abstraction is achieved through abstract classes and interfaces. An abstract class is a class that cannot be instantiated and is used as a base class for other classes. It contains one or more abstract methods that must be implemented by its subclasses. An interface is a collection of abstract methods that are used to define a contract between a class and the outside world.\n",
        "\n",
        "Here’s an example of abstraction in OOPs: Suppose you have a class called “Vehicle” that has two subclasses called “Car” and “Bike”. The “Vehicle” class has an abstract method called “startEngine()” that must be implemented by its subclasses. The “Car” subclass implements the “startEngine()” method by starting the car engine, while the “Bike” subclass implements the same method by starting the bike engine."
      ],
      "metadata": {
        "id": "Arg9PKvbCzUB"
      }
    },
    {
      "cell_type": "markdown",
      "source": [
        "## Question 2"
      ],
      "metadata": {
        "id": "lr1KoAxGDB7r"
      }
    },
    {
      "cell_type": "markdown",
      "source": [
        "Abstraction involves hiding unwanted information while providing the most important information. It allows you to focus on what an object does instead of how it does it. Encapsulation, on the other hand, implies hiding code and information in one device. It hides the internal working from the outside world.\n",
        "\n",
        "Here’s an example of Abstraction and Encapsulation in OOPs: Suppose you have a class called “BankAccount” that has two private variables called “balance” and “accountNumber”. The “BankAccount” class has two public methods called “deposit()” and “withdraw()” that allow you to deposit or withdraw money from your account. The “deposit()” method adds money to your account balance, while the “withdraw()” method subtracts money from your account balance.\n",
        "\n",
        "In this example, abstraction is achieved by hiding the internal details of how the deposit and withdraw methods work. You don’t need to know how these methods work internally; you just need to know that they add or subtract money from your account balance. Encapsulation is achieved by wrapping the code and data for necessary information. The balance and accountNumber variables are hidden from the outside world and can only be accessed through the public methods."
      ],
      "metadata": {
        "id": "6BLUcvmkDaFU"
      }
    },
    {
      "cell_type": "markdown",
      "source": [
        "## Question 3"
      ],
      "metadata": {
        "id": "bvZ_6nXYDlcY"
      }
    },
    {
      "cell_type": "markdown",
      "source": [
        "The abc module in Python stands for Abstract Base Classes. It provides a way to define abstract classes that can be used as a base class for other classes. Abstract classes are classes that cannot be instantiated and are used as a base class for other classes. They contain one or more abstract methods that must be implemented by its subclasses.\n",
        "\n",
        "The abc module is used to define abstract base classes that can be used to enforce constraints on derived classes. It is used to define interfaces that must be implemented by the derived classes. The abc module is also used to define mixins, which are classes that provide a specific functionality that can be added to other classes."
      ],
      "metadata": {
        "id": "xf0dUef4DoYM"
      }
    },
    {
      "cell_type": "markdown",
      "source": [
        "## Question 4"
      ],
      "metadata": {
        "id": "Y-mqqSwwD0On"
      }
    },
    {
      "cell_type": "markdown",
      "source": [
        "Data abstraction is the process of hiding the implementation details of data and only showing the essential features to the user. It is achieved by using abstract data types (ADTs) or abstract classes.\n",
        "\n",
        "In Python, we can achieve data abstraction by using classes and objects. We can define a class that contains the data members and member functions that operate on those data members. The data members can be made private by using the double underscore prefix before their names. This makes them inaccessible from outside the class. The member functions can be made public or private depending on whether they need to be accessed from outside the class or not.\n",
        "\n",
        "By using classes and objects, we can achieve data abstraction in Python. We can hide the implementation details of the data members and only show the essential features to the user."
      ],
      "metadata": {
        "id": "3vESNabxD3v5"
      }
    },
    {
      "cell_type": "markdown",
      "source": [
        "## Question 5"
      ],
      "metadata": {
        "id": "cKUasRMHD9V_"
      }
    },
    {
      "cell_type": "markdown",
      "source": [
        "No, we cannot create an instance of an abstract class. An abstract class is a class that contains one or more abstract methods that must be implemented by its subclasses. Abstract classes cannot be instantiated because they are incomplete. They are only used as a base class for other classes.\n",
        "\n",
        "If we try to create an instance of an abstract class, we will get a TypeError. We can only create instances of concrete classes that inherit from the abstract class and implement all the abstract methods."
      ],
      "metadata": {
        "id": "fFl3A16KD_Ca"
      }
    },
    {
      "cell_type": "code",
      "execution_count": null,
      "metadata": {
        "id": "F9YC878aCu65"
      },
      "outputs": [],
      "source": []
    }
  ]
}