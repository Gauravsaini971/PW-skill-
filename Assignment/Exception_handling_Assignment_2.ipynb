{
  "nbformat": 4,
  "nbformat_minor": 0,
  "metadata": {
    "colab": {
      "provenance": []
    },
    "kernelspec": {
      "name": "python3",
      "display_name": "Python 3"
    },
    "language_info": {
      "name": "python"
    }
  },
  "cells": [
    {
      "cell_type": "markdown",
      "source": [
        "## Question 1"
      ],
      "metadata": {
        "id": "bkE7UqRrI7xj"
      }
    },
    {
      "cell_type": "markdown",
      "source": [
        "We use the Exception class while creating a custom exception to improve the readability of your code, enhance reusability of features, provide custom messages/instructions to users for specific use cases, allow the programmer to be specific in their catch clauses, and only catch the exceptions they care about and know what to do with .\n",
        "\n",
        "When you create a custom exception class in Python, you should inherit from the Exception class or any of its subclasses. This is because the Exception class provides a lot of functionality that you can use in your custom exception classes. For example, it provides methods like __str__() and __repr__() that you can override to customize the string representation of your exception."
      ],
      "metadata": {
        "id": "S-vy_uY9JAaw"
      }
    },
    {
      "cell_type": "markdown",
      "source": [
        "## Question 2"
      ],
      "metadata": {
        "id": "BSQv9Q2rNPc4"
      }
    },
    {
      "cell_type": "code",
      "execution_count": 1,
      "metadata": {
        "colab": {
          "base_uri": "https://localhost:8080/"
        },
        "id": "c_6wNHJgIzpq",
        "outputId": "a5e6448e-d519-4566-ea41-a7a6ccf0eb50"
      },
      "outputs": [
        {
          "output_type": "stream",
          "name": "stdout",
          "text": [
            "ArithmeticError\n",
            "AssertionError\n",
            "AttributeError\n",
            "BaseException\n",
            "BlockingIOError\n",
            "BrokenPipeError\n",
            "BufferError\n",
            "BytesWarning\n",
            "ChildProcessError\n",
            "ConnectionAbortedError\n",
            "ConnectionError\n",
            "ConnectionRefusedError\n",
            "ConnectionResetError\n",
            "DeprecationWarning\n",
            "EOFError\n",
            "EncodingWarning\n",
            "EnvironmentError\n",
            "Exception\n",
            "FileExistsError\n",
            "FileNotFoundError\n",
            "FloatingPointError\n",
            "FutureWarning\n",
            "GeneratorExit\n",
            "IOError\n",
            "ImportError\n",
            "ImportWarning\n",
            "IndentationError\n",
            "IndexError\n",
            "InterruptedError\n",
            "IsADirectoryError\n",
            "KeyError\n",
            "KeyboardInterrupt\n",
            "LookupError\n",
            "MemoryError\n",
            "ModuleNotFoundError\n",
            "NameError\n",
            "NotADirectoryError\n",
            "NotImplementedError\n",
            "OSError\n",
            "OverflowError\n",
            "PendingDeprecationWarning\n",
            "PermissionError\n",
            "ProcessLookupError\n",
            "RecursionError\n",
            "ReferenceError\n",
            "ResourceWarning\n",
            "RuntimeError\n",
            "RuntimeWarning\n",
            "StopAsyncIteration\n",
            "StopIteration\n",
            "SyntaxError\n",
            "SyntaxWarning\n",
            "SystemError\n",
            "SystemExit\n",
            "TabError\n",
            "TimeoutError\n",
            "TypeError\n",
            "UnboundLocalError\n",
            "UnicodeDecodeError\n",
            "UnicodeEncodeError\n",
            "UnicodeError\n",
            "UnicodeTranslateError\n",
            "UnicodeWarning\n",
            "UserWarning\n",
            "ValueError\n",
            "Warning\n",
            "ZeroDivisionError\n"
          ]
        }
      ],
      "source": [
        "import inspect\n",
        "\n",
        "def print_exception_hierarchy():\n",
        "    for name, obj in inspect.getmembers(__builtins__):\n",
        "        if inspect.isclass(obj) and issubclass(obj, BaseException):\n",
        "            print(name)\n",
        "\n",
        "print_exception_hierarchy()"
      ]
    },
    {
      "cell_type": "markdown",
      "source": [
        "## Question 3"
      ],
      "metadata": {
        "id": "0OwKOoYYNN7T"
      }
    },
    {
      "cell_type": "markdown",
      "source": [
        "The ArithmeticError class is the base class for those built-in exceptions that are raised for various arithmetic errors such as ZeroDivisionError, OverflowError, and FloatingPointError."
      ],
      "metadata": {
        "id": "cpBJeGFVNX0f"
      }
    },
    {
      "cell_type": "code",
      "source": [
        "a = 10\n",
        "b = 0\n",
        "try :\n",
        "  c = a/b\n",
        "except ZeroDivisionError as e:\n",
        "  print(e)"
      ],
      "metadata": {
        "colab": {
          "base_uri": "https://localhost:8080/"
        },
        "id": "oOGwmQ_uMe37",
        "outputId": "eb86962d-1ea3-43de-ad6e-a4bf6eb41054"
      },
      "execution_count": 2,
      "outputs": [
        {
          "output_type": "stream",
          "name": "stdout",
          "text": [
            "division by zero\n"
          ]
        }
      ]
    },
    {
      "cell_type": "code",
      "source": [
        "import math\n",
        "\n",
        "try:\n",
        "    x = math.exp(1000)\n",
        "except OverflowError as e:\n",
        "    print(e)"
      ],
      "metadata": {
        "colab": {
          "base_uri": "https://localhost:8080/"
        },
        "id": "4F90UAaLJs-z",
        "outputId": "ff50cddb-7226-4dc2-a0bd-520e09d11bb6"
      },
      "execution_count": 3,
      "outputs": [
        {
          "output_type": "stream",
          "name": "stdout",
          "text": [
            "math range error\n"
          ]
        }
      ]
    },
    {
      "cell_type": "markdown",
      "source": [
        "## Question 4"
      ],
      "metadata": {
        "id": "0cWZbNavO9gj"
      }
    },
    {
      "cell_type": "markdown",
      "source": [
        "The LookupError class is the base class for the exception related to index error or key error raise on mapping ."
      ],
      "metadata": {
        "id": "kZ6ASMHBPAwd"
      }
    },
    {
      "cell_type": "code",
      "source": [
        "a = {\"b\":1,\"c\":2}\n",
        "try :\n",
        "  a[\"d\"]\n",
        "except KeyError as e:\n",
        "  print(e)"
      ],
      "metadata": {
        "colab": {
          "base_uri": "https://localhost:8080/"
        },
        "id": "93G_OQ-YPAD2",
        "outputId": "ad4cd1b1-7f96-4e5d-cc7c-8cad37b46734"
      },
      "execution_count": 11,
      "outputs": [
        {
          "output_type": "stream",
          "name": "stdout",
          "text": [
            "'d'\n"
          ]
        }
      ]
    },
    {
      "cell_type": "code",
      "source": [
        "a = [1,2,3]\n",
        "try :\n",
        "  a[5]\n",
        "except IndexError as e:\n",
        "  print(e)"
      ],
      "metadata": {
        "colab": {
          "base_uri": "https://localhost:8080/"
        },
        "id": "p1TFMTUQQvsu",
        "outputId": "481bb525-0598-4aa7-e6b6-798c10c78696"
      },
      "execution_count": 12,
      "outputs": [
        {
          "output_type": "stream",
          "name": "stdout",
          "text": [
            "list index out of range\n"
          ]
        }
      ]
    },
    {
      "cell_type": "markdown",
      "source": [
        "## Question 5"
      ],
      "metadata": {
        "id": "IstXJt9JRBAD"
      }
    },
    {
      "cell_type": "markdown",
      "source": [
        "In Python, ImportError occurs when the Python program tries to import module which does not exist in the private table. This exception can be avoided using exception handling using try and except blocks."
      ],
      "metadata": {
        "id": "fDP6C-DbRp8E"
      }
    },
    {
      "cell_type": "code",
      "source": [
        "try:\n",
        "    import some_module\n",
        "except ImportError as e:\n",
        "    print(e)"
      ],
      "metadata": {
        "colab": {
          "base_uri": "https://localhost:8080/"
        },
        "id": "4KM0mk3fRzVP",
        "outputId": "84bec89d-ddca-48dd-bebb-4a26e7779c25"
      },
      "execution_count": 13,
      "outputs": [
        {
          "output_type": "stream",
          "name": "stdout",
          "text": [
            "No module named 'some_module'\n"
          ]
        }
      ]
    },
    {
      "cell_type": "code",
      "source": [
        "  try:\n",
        "    import some_module\n",
        "except ModuleNotFoundError as e:\n",
        "    print(e)"
      ],
      "metadata": {
        "colab": {
          "base_uri": "https://localhost:8080/"
        },
        "id": "tjkY1E3UQ-ft",
        "outputId": "4be427d0-5cd1-40fe-f551-0c59eb7869a4"
      },
      "execution_count": 14,
      "outputs": [
        {
          "output_type": "stream",
          "name": "stdout",
          "text": [
            "No module named 'some_module'\n"
          ]
        }
      ]
    },
    {
      "cell_type": "markdown",
      "source": [
        "## Question 6"
      ],
      "metadata": {
        "id": "TSnPT3aWTYOv"
      }
    },
    {
      "cell_type": "markdown",
      "source": [
        "* Plan ahead by considering possible failures and designing your program to handle them gracefully. This means anticipating edge cases and implementing appropriate error handlers\n",
        "\n",
        "* Use exceptions instead of returning error status codes. Exceptions are better than returning error status codes because the whole language core and standard libraries throw exceptions\n",
        "\n",
        "* Elegantly handled exceptions are any day preferable to error codes and tracebacks.\n",
        "* Handle exceptions properly to prevent your program from crashing or producing incorrect results due to unexpected errors or input.\n",
        "* Separate error handling code from the main program logic, making it easier to read and maintain your code"
      ],
      "metadata": {
        "id": "mkG9abshTbwO"
      }
    },
    {
      "cell_type": "code",
      "source": [],
      "metadata": {
        "id": "y7rEtmVxS28U"
      },
      "execution_count": null,
      "outputs": []
    }
  ]
}