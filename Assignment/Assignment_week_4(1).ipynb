{
  "nbformat": 4,
  "nbformat_minor": 0,
  "metadata": {
    "colab": {
      "provenance": []
    },
    "kernelspec": {
      "name": "python3",
      "display_name": "Python 3"
    },
    "language_info": {
      "name": "python"
    }
  },
  "cells": [
    {
      "cell_type": "markdown",
      "source": [
        "## Question 1"
      ],
      "metadata": {
        "id": "zDfeMjd2cYA2"
      }
    },
    {
      "cell_type": "code",
      "execution_count": 8,
      "metadata": {
        "id": "19mdMtMMcN32"
      },
      "outputs": [],
      "source": [
        "# creating the class vehicle\n",
        "class vehicle :\n",
        "# defining the attribute of class vehicle\n",
        "  def __init__(self,name_of_vehicle,max_speed,average_of_vehicle):\n",
        "    self.name_of_vehicle = name_of_vehicle\n",
        "    self.max_speed = max_speed\n",
        "    self.average_of_vehicle = average_of_vehicle"
      ]
    },
    {
      "cell_type": "code",
      "source": [
        "car1 = vehicle(\"alto\",\"120 kmph\",\"15 kml\")"
      ],
      "metadata": {
        "id": "5hqWt5qJdGsj"
      },
      "execution_count": 9,
      "outputs": []
    },
    {
      "cell_type": "code",
      "source": [
        "car1.name_of_vehicle"
      ],
      "metadata": {
        "colab": {
          "base_uri": "https://localhost:8080/",
          "height": 36
        },
        "id": "FuIfVW_9dVEd",
        "outputId": "045509c3-8846-4d3c-a6dc-5d06a4da9345"
      },
      "execution_count": 10,
      "outputs": [
        {
          "output_type": "execute_result",
          "data": {
            "text/plain": [
              "'alto'"
            ],
            "application/vnd.google.colaboratory.intrinsic+json": {
              "type": "string"
            }
          },
          "metadata": {},
          "execution_count": 10
        }
      ]
    },
    {
      "cell_type": "code",
      "source": [
        "car1.max_speed"
      ],
      "metadata": {
        "colab": {
          "base_uri": "https://localhost:8080/",
          "height": 36
        },
        "id": "kueMbgK2dmC_",
        "outputId": "69c4c85c-3feb-4793-9020-95823c4a11f0"
      },
      "execution_count": 11,
      "outputs": [
        {
          "output_type": "execute_result",
          "data": {
            "text/plain": [
              "'120 kmph'"
            ],
            "application/vnd.google.colaboratory.intrinsic+json": {
              "type": "string"
            }
          },
          "metadata": {},
          "execution_count": 11
        }
      ]
    },
    {
      "cell_type": "code",
      "source": [
        "car1.average_of_vehicle"
      ],
      "metadata": {
        "colab": {
          "base_uri": "https://localhost:8080/",
          "height": 36
        },
        "id": "I5y1jox3drQn",
        "outputId": "da8536a1-328b-47a2-8942-38d34d939d82"
      },
      "execution_count": 12,
      "outputs": [
        {
          "output_type": "execute_result",
          "data": {
            "text/plain": [
              "'15 kml'"
            ],
            "application/vnd.google.colaboratory.intrinsic+json": {
              "type": "string"
            }
          },
          "metadata": {},
          "execution_count": 12
        }
      ]
    },
    {
      "cell_type": "markdown",
      "source": [
        "## Question 2"
      ],
      "metadata": {
        "id": "xH-5_2Fd1SMD"
      }
    },
    {
      "cell_type": "code",
      "source": [
        "# creating class name car and inheriting vehicle\n",
        "class car(vehicle) :\n",
        "\n",
        "  def seating_capicity(self,capicity):\n",
        "    '''\n",
        "    This take seating capicity of a car as arguement and return the name of vehicle and seating capicity\n",
        "    '''\n",
        "    self.capicity = capicity\n",
        "    return self.name_of_vehicle,self.capicity"
      ],
      "metadata": {
        "id": "eWs_jU-7duho"
      },
      "execution_count": 13,
      "outputs": []
    },
    {
      "cell_type": "code",
      "source": [
        "car2 = car(\"Harrier\",\"180 kmph\",\"14 kpl\")"
      ],
      "metadata": {
        "id": "u8OD_kMNe2x7"
      },
      "execution_count": 14,
      "outputs": []
    },
    {
      "cell_type": "code",
      "source": [
        "car2.seating_capicity(5)"
      ],
      "metadata": {
        "colab": {
          "base_uri": "https://localhost:8080/"
        },
        "id": "nLkaJt_Ze8Af",
        "outputId": "a27cea09-64da-43fe-cc63-944d2b69b933"
      },
      "execution_count": 15,
      "outputs": [
        {
          "output_type": "execute_result",
          "data": {
            "text/plain": [
              "('Harrier', 5)"
            ]
          },
          "metadata": {},
          "execution_count": 15
        }
      ]
    },
    {
      "cell_type": "markdown",
      "source": [
        "## Question 3"
      ],
      "metadata": {
        "id": "E1lkMBAq2q10"
      }
    },
    {
      "cell_type": "code",
      "source": [
        "class area :\n",
        "  def __init__(self,length,breath):\n",
        "    self.length = length\n",
        "    self.breath = breath\n",
        "\n",
        "  def area(self):\n",
        "    return self.length * self.breath\n"
      ],
      "metadata": {
        "id": "lMHGBGIIfQVR"
      },
      "execution_count": 16,
      "outputs": []
    },
    {
      "cell_type": "code",
      "source": [
        "class circumference:\n",
        "  def __init__(self,length,breath):\n",
        "    self.length = length\n",
        "    self.breath = breath\n",
        "\n",
        "  def get_circumference(self):\n",
        "    return ((2*self.length) + (2*self.breath))\n",
        ""
      ],
      "metadata": {
        "id": "b7Yum4nW3hiS"
      },
      "execution_count": 17,
      "outputs": []
    },
    {
      "cell_type": "code",
      "source": [
        "class rectangle(area,circumference):\n",
        "  pass"
      ],
      "metadata": {
        "id": "KRF7Eabb4zbB"
      },
      "execution_count": 18,
      "outputs": []
    },
    {
      "cell_type": "code",
      "source": [
        "a = rectangle(4,5)"
      ],
      "metadata": {
        "id": "FFnlFvuF54W7"
      },
      "execution_count": 19,
      "outputs": []
    },
    {
      "cell_type": "code",
      "source": [
        "print(a.breath)\n",
        "print(a.length)"
      ],
      "metadata": {
        "colab": {
          "base_uri": "https://localhost:8080/"
        },
        "id": "P4x3CG0p5_Qa",
        "outputId": "81778629-cf3f-422a-b66f-ffd0b1f86837"
      },
      "execution_count": 20,
      "outputs": [
        {
          "output_type": "stream",
          "name": "stdout",
          "text": [
            "5\n",
            "4\n"
          ]
        }
      ]
    },
    {
      "cell_type": "code",
      "source": [
        "a.area()"
      ],
      "metadata": {
        "colab": {
          "base_uri": "https://localhost:8080/"
        },
        "id": "4ud_4xQ76Gxf",
        "outputId": "ac949eaa-c75b-4409-c26a-fdecb26660c9"
      },
      "execution_count": 21,
      "outputs": [
        {
          "output_type": "execute_result",
          "data": {
            "text/plain": [
              "20"
            ]
          },
          "metadata": {},
          "execution_count": 21
        }
      ]
    },
    {
      "cell_type": "code",
      "source": [
        "a.get_circumference()"
      ],
      "metadata": {
        "colab": {
          "base_uri": "https://localhost:8080/"
        },
        "id": "DU90HkH16Iu0",
        "outputId": "5761f36d-d509-414f-df7c-b5cd2f4b5608"
      },
      "execution_count": 22,
      "outputs": [
        {
          "output_type": "execute_result",
          "data": {
            "text/plain": [
              "18"
            ]
          },
          "metadata": {},
          "execution_count": 22
        }
      ]
    },
    {
      "cell_type": "markdown",
      "source": [
        "## Question 4"
      ],
      "metadata": {
        "id": "l_Q4MXo47nM0"
      }
    },
    {
      "cell_type": "markdown",
      "source": [
        "Getter : The getter is the method which allow user to access any attribute in a given class.\n",
        "\n",
        "Setter : The setter is the method which allow to set and mutate the value of an attribute in a class."
      ],
      "metadata": {
        "id": "-j-krh008IRA"
      }
    },
    {
      "cell_type": "code",
      "source": [
        "class pwskills():\n",
        "  def __init__(self,batch,fee,seat_remaining):\n",
        "    self.__batch = batch\n",
        "    self.__fee = fee\n",
        "    self.__seat_remaining = seat_remaining\n",
        "\n",
        "  def get_batch(self):\n",
        "    return self.__batch\n",
        "\n",
        "  def get_fee(self):\n",
        "    return self.__fee\n",
        "\n",
        "  def set_fee(self,new_fee):\n",
        "    self.__fee = new_fee\n",
        "\n",
        "  def updating_seats(self,seats):\n",
        "    self.__seat_remaining = seats\n",
        "\n",
        "  def get_seats(self):\n",
        "    return self.__seat_remaining"
      ],
      "metadata": {
        "id": "VR7EPPQ_7N11"
      },
      "execution_count": 23,
      "outputs": []
    },
    {
      "cell_type": "code",
      "source": [
        "dsml = pwskills(\"DSML 3.0\",3500,30)"
      ],
      "metadata": {
        "id": "bu3w_EMG_l2u"
      },
      "execution_count": 24,
      "outputs": []
    },
    {
      "cell_type": "code",
      "source": [
        "print(dsml.get_batch())\n",
        "print(dsml.get_fee())\n",
        "print(dsml.get_seats())"
      ],
      "metadata": {
        "colab": {
          "base_uri": "https://localhost:8080/"
        },
        "id": "Bw18h9Gz_zVe",
        "outputId": "aef8ac36-73c8-4467-ee22-75cb803c6500"
      },
      "execution_count": 25,
      "outputs": [
        {
          "output_type": "stream",
          "name": "stdout",
          "text": [
            "DSML 3.0\n",
            "3500\n",
            "30\n"
          ]
        }
      ]
    },
    {
      "cell_type": "code",
      "source": [
        "dsml.set_fee(7000)\n",
        "dsml.get_fee()"
      ],
      "metadata": {
        "colab": {
          "base_uri": "https://localhost:8080/"
        },
        "id": "JGz-KYgBARrL",
        "outputId": "301567eb-6e0b-4125-a7a4-c6c49b29bd47"
      },
      "execution_count": 26,
      "outputs": [
        {
          "output_type": "execute_result",
          "data": {
            "text/plain": [
              "7000"
            ]
          },
          "metadata": {},
          "execution_count": 26
        }
      ]
    },
    {
      "cell_type": "code",
      "source": [
        "dsml.updating_seats(5)\n",
        "dsml.get_seats()"
      ],
      "metadata": {
        "colab": {
          "base_uri": "https://localhost:8080/"
        },
        "id": "GHBUtDgGA0GP",
        "outputId": "fcba7583-d570-4a1d-8043-96b1ae508771"
      },
      "execution_count": 27,
      "outputs": [
        {
          "output_type": "execute_result",
          "data": {
            "text/plain": [
              "5"
            ]
          },
          "metadata": {},
          "execution_count": 27
        }
      ]
    },
    {
      "cell_type": "markdown",
      "source": [
        "## Question 5"
      ],
      "metadata": {
        "id": "75RTtplvBEeW"
      }
    },
    {
      "cell_type": "markdown",
      "source": [
        "Method overriding is the feature of object oriented programming language where sub-class or child class can provide the programme with specific charcterstics or specific implementation process of data that are provided in the parent class."
      ],
      "metadata": {
        "id": "h_gdm7wiHCt8"
      }
    },
    {
      "cell_type": "code",
      "source": [
        "import abc\n",
        "class measurable_unit:\n",
        "\n",
        "  @abc.abstractmethod\n",
        "  def area(self):\n",
        "    pass\n",
        "\n",
        "  @abc.abstractmethod\n",
        "  def volume(self):\n",
        "    pass\n"
      ],
      "metadata": {
        "id": "vj7oeeV8BCML"
      },
      "execution_count": 28,
      "outputs": []
    },
    {
      "cell_type": "code",
      "source": [
        "class cylinder(measurable_unit):\n",
        "  def __init__(self,radius,height):\n",
        "    self.radius = radius\n",
        "    self.height = height\n",
        "\n",
        "  def area(self):\n",
        "    return 2*3.14*self.radius*self.height\n",
        "\n",
        "  def volume(self):\n",
        "    return 3.14*self.radius*self.radius*self.height"
      ],
      "metadata": {
        "id": "D1uj0CQ4Ehgn"
      },
      "execution_count": 29,
      "outputs": []
    },
    {
      "cell_type": "code",
      "source": [
        "c1 = cylinder(7,2)"
      ],
      "metadata": {
        "id": "AvSXLatgFsNE"
      },
      "execution_count": 30,
      "outputs": []
    },
    {
      "cell_type": "code",
      "source": [
        "c1.area()"
      ],
      "metadata": {
        "colab": {
          "base_uri": "https://localhost:8080/"
        },
        "id": "w-T_dPViGnBN",
        "outputId": "33d8b920-234e-485c-85ff-fe594c32f3ba"
      },
      "execution_count": 31,
      "outputs": [
        {
          "output_type": "execute_result",
          "data": {
            "text/plain": [
              "87.92"
            ]
          },
          "metadata": {},
          "execution_count": 31
        }
      ]
    },
    {
      "cell_type": "code",
      "source": [
        "c1.volume()"
      ],
      "metadata": {
        "colab": {
          "base_uri": "https://localhost:8080/"
        },
        "id": "O5lgoGf9GwED",
        "outputId": "5b64557d-35ca-4ce4-b41b-22290d789175"
      },
      "execution_count": 32,
      "outputs": [
        {
          "output_type": "execute_result",
          "data": {
            "text/plain": [
              "307.72"
            ]
          },
          "metadata": {},
          "execution_count": 32
        }
      ]
    },
    {
      "cell_type": "code",
      "source": [],
      "metadata": {
        "id": "fGAERjInG2IN"
      },
      "execution_count": null,
      "outputs": []
    }
  ]
}