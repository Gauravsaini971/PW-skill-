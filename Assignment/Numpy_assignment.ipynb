{
  "nbformat": 4,
  "nbformat_minor": 0,
  "metadata": {
    "colab": {
      "provenance": []
    },
    "kernelspec": {
      "name": "python3",
      "display_name": "Python 3"
    },
    "language_info": {
      "name": "python"
    }
  },
  "cells": [
    {
      "cell_type": "code",
      "execution_count": 5,
      "metadata": {
        "id": "VLYJ6sbmMkzy"
      },
      "outputs": [],
      "source": [
        "import numpy as np\n",
        "list_ = ['1','2','3','4','5']\n",
        "array_list = np.array(object = list_)"
      ]
    },
    {
      "cell_type": "markdown",
      "source": [
        "## Question 1"
      ],
      "metadata": {
        "id": "_vjKFFMXNi-Q"
      }
    },
    {
      "cell_type": "markdown",
      "source": [
        "Yes, there is a difference in the data type of variable list_ and array_list.The list_ is the list of string whereas array_list is the numpy array of strings."
      ],
      "metadata": {
        "id": "nRZwDLuOUB9A"
      }
    },
    {
      "cell_type": "code",
      "source": [
        "print(type(list_))\n",
        "print(type(array_list))"
      ],
      "metadata": {
        "colab": {
          "base_uri": "https://localhost:8080/"
        },
        "id": "UyoMwnnMMtBi",
        "outputId": "675afe34-8dd3-44ab-b1b5-9f37063bf701"
      },
      "execution_count": 10,
      "outputs": [
        {
          "output_type": "stream",
          "name": "stdout",
          "text": [
            "<class 'list'>\n",
            "<class 'numpy.ndarray'>\n"
          ]
        }
      ]
    },
    {
      "cell_type": "markdown",
      "source": [
        "## Question 2"
      ],
      "metadata": {
        "id": "HbJZouS0U6Fe"
      }
    },
    {
      "cell_type": "code",
      "source": [
        "for i in list_:\n",
        "  print(f\"The Data type of {i} is {type(i)}\")\n",
        "\n",
        "for j in array_list:\n",
        "  print(f\"The data type of {j} is {type(j)}\")"
      ],
      "metadata": {
        "colab": {
          "base_uri": "https://localhost:8080/"
        },
        "id": "_hguMakdM1en",
        "outputId": "8751e0a1-7e60-470e-c556-b4a8fc98e085"
      },
      "execution_count": 11,
      "outputs": [
        {
          "output_type": "stream",
          "name": "stdout",
          "text": [
            "The Data type of 1 is <class 'str'>\n",
            "The Data type of 2 is <class 'str'>\n",
            "The Data type of 3 is <class 'str'>\n",
            "The Data type of 4 is <class 'str'>\n",
            "The Data type of 5 is <class 'str'>\n",
            "The data type of 1 is <class 'numpy.str_'>\n",
            "The data type of 2 is <class 'numpy.str_'>\n",
            "The data type of 3 is <class 'numpy.str_'>\n",
            "The data type of 4 is <class 'numpy.str_'>\n",
            "The data type of 5 is <class 'numpy.str_'>\n"
          ]
        }
      ]
    },
    {
      "cell_type": "markdown",
      "source": [
        "## Question 3"
      ],
      "metadata": {
        "id": "6R-xYhBwVoGg"
      }
    },
    {
      "cell_type": "markdown",
      "source": [
        "Yes, there is a change in the data type of element of numpy arraa as type we specifing the data type while creating an array."
      ],
      "metadata": {
        "id": "orLunmZ4V7SL"
      }
    },
    {
      "cell_type": "code",
      "source": [
        "array_list_1 = np.array(object = list_, dtype = int)\n",
        "for i in array_list_1:\n",
        "  print(f\"The Data type of {i} is {type(i)}\")"
      ],
      "metadata": {
        "colab": {
          "base_uri": "https://localhost:8080/"
        },
        "id": "7HSsbzPvV1-Q",
        "outputId": "1228320a-d11e-4dcc-8126-fada3cf25342"
      },
      "execution_count": 15,
      "outputs": [
        {
          "output_type": "stream",
          "name": "stdout",
          "text": [
            "The Data type of 1 is <class 'numpy.int64'>\n",
            "The Data type of 2 is <class 'numpy.int64'>\n",
            "The Data type of 3 is <class 'numpy.int64'>\n",
            "The Data type of 4 is <class 'numpy.int64'>\n",
            "The Data type of 5 is <class 'numpy.int64'>\n"
          ]
        }
      ]
    },
    {
      "cell_type": "markdown",
      "source": [
        "## Question 4"
      ],
      "metadata": {
        "id": "La5ADuyMV7Ov"
      }
    },
    {
      "cell_type": "code",
      "source": [
        "import numpy as np\n",
        "num_list = [ [ 1 , 2 , 3 ] , [ 4 , 5 , 6 ] ]\n",
        "num_array = np.array(object = num_list)"
      ],
      "metadata": {
        "id": "u3pMW0FxWtFi"
      },
      "execution_count": 20,
      "outputs": []
    },
    {
      "cell_type": "code",
      "source": [
        "num_array.shape"
      ],
      "metadata": {
        "colab": {
          "base_uri": "https://localhost:8080/"
        },
        "id": "b5ztMAqOXZ-j",
        "outputId": "6ac3156c-fc70-403a-9fee-db633621cc3c"
      },
      "execution_count": 21,
      "outputs": [
        {
          "output_type": "execute_result",
          "data": {
            "text/plain": [
              "(2, 3)"
            ]
          },
          "metadata": {},
          "execution_count": 21
        }
      ]
    },
    {
      "cell_type": "code",
      "source": [
        "num_array.size"
      ],
      "metadata": {
        "colab": {
          "base_uri": "https://localhost:8080/"
        },
        "id": "dMFJn9wEXelg",
        "outputId": "a72d768f-e971-47ea-e231-fdcba656ab6e"
      },
      "execution_count": 22,
      "outputs": [
        {
          "output_type": "execute_result",
          "data": {
            "text/plain": [
              "6"
            ]
          },
          "metadata": {},
          "execution_count": 22
        }
      ]
    },
    {
      "cell_type": "markdown",
      "source": [
        "## Question 5"
      ],
      "metadata": {
        "id": "JItWEHLLX04C"
      }
    },
    {
      "cell_type": "code",
      "source": [
        "array = np.zeros((3,3))\n",
        "array"
      ],
      "metadata": {
        "colab": {
          "base_uri": "https://localhost:8080/"
        },
        "id": "ZEKJqYtIXhJb",
        "outputId": "6cfa2aa2-ea4a-448b-a834-fc81125485a0"
      },
      "execution_count": 26,
      "outputs": [
        {
          "output_type": "execute_result",
          "data": {
            "text/plain": [
              "array([[0., 0., 0.],\n",
              "       [0., 0., 0.],\n",
              "       [0., 0., 0.]])"
            ]
          },
          "metadata": {},
          "execution_count": 26
        }
      ]
    },
    {
      "cell_type": "markdown",
      "source": [
        "## Question 6"
      ],
      "metadata": {
        "id": "We0780hoYLz7"
      }
    },
    {
      "cell_type": "code",
      "source": [
        "identity_array = np.identity(5)\n",
        "identity_array"
      ],
      "metadata": {
        "colab": {
          "base_uri": "https://localhost:8080/"
        },
        "id": "1EGoJBRqX8HM",
        "outputId": "6cf14a02-1ea5-4fee-d7ee-845b9381ee59"
      },
      "execution_count": 29,
      "outputs": [
        {
          "output_type": "execute_result",
          "data": {
            "text/plain": [
              "array([[1., 0., 0., 0., 0.],\n",
              "       [0., 1., 0., 0., 0.],\n",
              "       [0., 0., 1., 0., 0.],\n",
              "       [0., 0., 0., 1., 0.],\n",
              "       [0., 0., 0., 0., 1.]])"
            ]
          },
          "metadata": {},
          "execution_count": 29
        }
      ]
    },
    {
      "cell_type": "code",
      "source": [],
      "metadata": {
        "id": "_e9gsQ_YYQ9g"
      },
      "execution_count": null,
      "outputs": []
    }
  ]
}