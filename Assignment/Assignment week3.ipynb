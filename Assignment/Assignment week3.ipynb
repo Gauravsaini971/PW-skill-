{
  "nbformat": 4,
  "nbformat_minor": 0,
  "metadata": {
    "colab": {
      "provenance": []
    },
    "kernelspec": {
      "name": "python3",
      "display_name": "Python 3"
    },
    "language_info": {
      "name": "python"
    }
  },
  "cells": [
    {
      "cell_type": "markdown",
      "source": [
        "## Question 1"
      ],
      "metadata": {
        "id": "TH97iRuo5hD6"
      }
    },
    {
      "cell_type": "markdown",
      "source": [],
      "metadata": {
        "id": "zyYDMJuO6YFK"
      }
    },
    {
      "cell_type": "markdown",
      "source": [
        "The keyword \"def\" is used to create a function. For example :-"
      ],
      "metadata": {
        "id": "vhUYE1XM6Xpp"
      }
    },
    {
      "cell_type": "code",
      "source": [
        "def odd_list(input):\n",
        "  odd_num_list = []\n",
        "  for num in range(input):\n",
        "    if num % 2 != 0:\n",
        "      odd_num_list.append(num)\n",
        "  return odd_num_list"
      ],
      "metadata": {
        "id": "FuASkilQ5qVF"
      },
      "execution_count": 1,
      "outputs": []
    },
    {
      "cell_type": "code",
      "source": [
        "odd_list(26)"
      ],
      "metadata": {
        "colab": {
          "base_uri": "https://localhost:8080/"
        },
        "id": "BxwcZUD26NNa",
        "outputId": "e00156e5-ec04-44ca-f4a9-4cd7e867c962"
      },
      "execution_count": 2,
      "outputs": [
        {
          "output_type": "execute_result",
          "data": {
            "text/plain": [
              "[1, 3, 5, 7, 9, 11, 13, 15, 17, 19, 21, 23, 25]"
            ]
          },
          "metadata": {},
          "execution_count": 2
        }
      ]
    },
    {
      "cell_type": "markdown",
      "source": [
        "## Question 2"
      ],
      "metadata": {
        "id": "dcnmnI7W65-B"
      }
    },
    {
      "cell_type": "markdown",
      "source": [
        "the \"*args\" and \"*kargs\" are used when we are not sure about the number of arguement to be passed in the function."
      ],
      "metadata": {
        "id": "sJ3dZBYW7aV2"
      }
    },
    {
      "cell_type": "code",
      "execution_count": 6,
      "metadata": {
        "id": "9p0g0fGX5e-l"
      },
      "outputs": [],
      "source": [
        "def get_sum(*num):\n",
        "  sum = 0\n",
        "  for i in num:\n",
        "    sum = sum + i\n",
        "\n",
        "  print(\"sum :\",sum)"
      ]
    },
    {
      "cell_type": "code",
      "source": [
        "get_sum(1,2,3,4,5)"
      ],
      "metadata": {
        "colab": {
          "base_uri": "https://localhost:8080/"
        },
        "id": "5KEeU3ro8tUC",
        "outputId": "45983f69-f715-4422-fd6d-3942be78b174"
      },
      "execution_count": 7,
      "outputs": [
        {
          "output_type": "stream",
          "name": "stdout",
          "text": [
            "sum : 15\n"
          ]
        }
      ]
    },
    {
      "cell_type": "markdown",
      "source": [
        "## Question 3"
      ],
      "metadata": {
        "id": "8D7GeL9w-T_7"
      }
    },
    {
      "cell_type": "markdown",
      "source": [
        "An iterator is an object that contains a countable number of values. An iterator is an object that can be iterated upon, meaning that you can traverse through all the values.The method that used for iteration are __iter__ and __next__."
      ],
      "metadata": {
        "id": "-StfKcQs-jxq"
      }
    },
    {
      "cell_type": "code",
      "source": [
        "list_1 = [i for i in range(21) if i%2 == 0]"
      ],
      "metadata": {
        "id": "hiof6XcO9uFL"
      },
      "execution_count": 8,
      "outputs": []
    },
    {
      "cell_type": "code",
      "source": [
        "list_1 = iter(list_1)tha"
      ],
      "metadata": {
        "id": "D0lhawINAGWm"
      },
      "execution_count": 11,
      "outputs": []
    },
    {
      "cell_type": "code",
      "source": [
        "for i in range(5):\n",
        "  print(next(list_1))"
      ],
      "metadata": {
        "colab": {
          "base_uri": "https://localhost:8080/"
        },
        "id": "K9Oqo7RiAICY",
        "outputId": "8498ac81-e49a-4dde-ec39-f1cd641c4e7e"
      },
      "execution_count": 12,
      "outputs": [
        {
          "output_type": "stream",
          "name": "stdout",
          "text": [
            "0\n",
            "2\n",
            "4\n",
            "6\n",
            "8\n"
          ]
        }
      ]
    },
    {
      "cell_type": "markdown",
      "source": [
        "## Question 4"
      ],
      "metadata": {
        "id": "riIV5MCiAvsF"
      }
    },
    {
      "cell_type": "markdown",
      "source": [
        "The generator is the function that return a iterator that produce a sequence of values when iterated over.Generator function when we want large sequence of values.The yield keyword convert the expression that specified along with it to a generator object and return it to the caller."
      ],
      "metadata": {
        "id": "1SfyjY4DBkXJ"
      }
    },
    {
      "cell_type": "code",
      "source": [
        "def odd_number(num):\n",
        "  count = 0\n",
        "  number = 0\n",
        "  while count < num:\n",
        "      if number%2 != 0:\n",
        "        count += 1\n",
        "        yield(number)\n",
        "        number += 1\n",
        "      else :\n",
        "        number += 1"
      ],
      "metadata": {
        "id": "wft3z5HhAWwS"
      },
      "execution_count": 27,
      "outputs": []
    },
    {
      "cell_type": "code",
      "source": [
        "list(odd_number(5))"
      ],
      "metadata": {
        "colab": {
          "base_uri": "https://localhost:8080/"
        },
        "id": "8JGdT8YNENH9",
        "outputId": "d1bc34dd-cf87-4c34-9d5c-6ac23f9f71a5"
      },
      "execution_count": 28,
      "outputs": [
        {
          "output_type": "execute_result",
          "data": {
            "text/plain": [
              "[1, 3, 5, 7, 9]"
            ]
          },
          "metadata": {},
          "execution_count": 28
        }
      ]
    },
    {
      "cell_type": "markdown",
      "source": [
        "## Question 5"
      ],
      "metadata": {
        "id": "BBwC2z2QGZJe"
      }
    },
    {
      "cell_type": "code",
      "source": [
        "def check_prime(number):\n",
        "  if number == 2 :\n",
        "    return True\n",
        "  \n",
        "  for rem in range(2,(number//2 + 1)):\n",
        "    if number % rem == 0 :\n",
        "      return False \n",
        "  else:\n",
        "    return True"
      ],
      "metadata": {
        "id": "exNaMfUFEQOy"
      },
      "execution_count": 29,
      "outputs": []
    },
    {
      "cell_type": "code",
      "source": [
        "def prime_number(num):\n",
        "  count = 0\n",
        "  number = 2\n",
        "  while count < num:\n",
        "    if check_prime(number):\n",
        "      yield(number)\n",
        "      count += 1\n",
        "      number += 1\n",
        "    else :\n",
        "      number += 1"
      ],
      "metadata": {
        "id": "iJyXcuPIH-iQ"
      },
      "execution_count": 30,
      "outputs": []
    },
    {
      "cell_type": "code",
      "source": [
        "prime_list = list(prime_number(11))\n",
        "print(prime_list)"
      ],
      "metadata": {
        "colab": {
          "base_uri": "https://localhost:8080/"
        },
        "id": "cqKSyYioJFb9",
        "outputId": "8ca1d414-22f5-4098-d207-07e45759b67e"
      },
      "execution_count": 36,
      "outputs": [
        {
          "output_type": "stream",
          "name": "stdout",
          "text": [
            "[2, 3, 5, 7, 11, 13, 17, 19, 23, 29, 31]\n"
          ]
        }
      ]
    },
    {
      "cell_type": "code",
      "source": [
        "prime_list = iter(prime_list)\n",
        "for i in range(5):\n",
        "  print(next(prime_list))"
      ],
      "metadata": {
        "colab": {
          "base_uri": "https://localhost:8080/"
        },
        "id": "TcCmJl-9JH89",
        "outputId": "342354fc-ee48-4720-957e-e1147eea17ec"
      },
      "execution_count": 37,
      "outputs": [
        {
          "output_type": "stream",
          "name": "stdout",
          "text": [
            "2\n",
            "3\n",
            "5\n",
            "7\n",
            "11\n"
          ]
        }
      ]
    },
    {
      "cell_type": "markdown",
      "source": [],
      "metadata": {
        "id": "vG71OzQaOqUV"
      }
    },
    {
      "cell_type": "markdown",
      "source": [
        "## Question 6"
      ],
      "metadata": {
        "id": "jPdYexOKOnvu"
      }
    },
    {
      "cell_type": "code",
      "source": [
        "def fibonacci_num(num):\n",
        "  count = 0\n",
        "  a = 0\n",
        "  b = 1\n",
        "  while count < num:\n",
        "     yield a\n",
        "     a ,b = b,a+b\n",
        "     count +=1"
      ],
      "metadata": {
        "id": "mU6n_FKtJtOS"
      },
      "execution_count": 4,
      "outputs": []
    },
    {
      "cell_type": "code",
      "source": [
        "list(fibonacci_num(10))"
      ],
      "metadata": {
        "colab": {
          "base_uri": "https://localhost:8080/"
        },
        "id": "AvY7jvDrLFKM",
        "outputId": "063c36eb-72fb-425e-8341-276e9d62c25a"
      },
      "execution_count": 6,
      "outputs": [
        {
          "output_type": "execute_result",
          "data": {
            "text/plain": [
              "[0, 1, 1, 2, 3, 5, 8, 13, 21, 34]"
            ]
          },
          "metadata": {},
          "execution_count": 6
        }
      ]
    },
    {
      "cell_type": "markdown",
      "source": [
        "## Question 7"
      ],
      "metadata": {
        "id": "iwHcrnncO0c1"
      }
    },
    {
      "cell_type": "code",
      "source": [
        "string = \"pwskills\"\n",
        "str_list = [i for i in string]\n",
        "print(str_list)"
      ],
      "metadata": {
        "colab": {
          "base_uri": "https://localhost:8080/"
        },
        "id": "RpFL1ILALMAW",
        "outputId": "75ad38e1-8a42-4eb0-a26b-d61d10dd5b88"
      },
      "execution_count": 8,
      "outputs": [
        {
          "output_type": "stream",
          "name": "stdout",
          "text": [
            "['p', 'w', 's', 'k', 'i', 'l', 'l', 's']\n"
          ]
        }
      ]
    },
    {
      "cell_type": "markdown",
      "source": [
        "## Question 8"
      ],
      "metadata": {
        "id": "CNwuSSO0PWLP"
      }
    },
    {
      "cell_type": "code",
      "source": [
        "def check_palindrome(num):\n",
        "  if str(num) == str(num)[::-1]:\n",
        "    print(\"Yes, the given is palimdrome\")\n",
        "  else :\n",
        "    print(\"The number is not palimdrome. pls try again\")"
      ],
      "metadata": {
        "id": "N7eGWVOJPB0L"
      },
      "execution_count": 9,
      "outputs": []
    },
    {
      "cell_type": "code",
      "source": [
        "check_palindrome(575)"
      ],
      "metadata": {
        "colab": {
          "base_uri": "https://localhost:8080/"
        },
        "id": "qGUr8txaQ5E7",
        "outputId": "c3a17f5b-da4b-4673-87f4-8e4db7f3721f"
      },
      "execution_count": 10,
      "outputs": [
        {
          "output_type": "stream",
          "name": "stdout",
          "text": [
            "Yes, the given is palimdrome\n"
          ]
        }
      ]
    },
    {
      "cell_type": "markdown",
      "source": [
        "## Question 9"
      ],
      "metadata": {
        "id": "QR2JeKHdShzZ"
      }
    },
    {
      "cell_type": "code",
      "source": [
        "number_list = [num for num in range(101)]\n",
        "print(number_list)"
      ],
      "metadata": {
        "colab": {
          "base_uri": "https://localhost:8080/"
        },
        "id": "dQOrIv_fR_fz",
        "outputId": "617e4dc1-5918-4f7e-dd5a-c20228f70191"
      },
      "execution_count": 12,
      "outputs": [
        {
          "output_type": "stream",
          "name": "stdout",
          "text": [
            "[0, 1, 2, 3, 4, 5, 6, 7, 8, 9, 10, 11, 12, 13, 14, 15, 16, 17, 18, 19, 20, 21, 22, 23, 24, 25, 26, 27, 28, 29, 30, 31, 32, 33, 34, 35, 36, 37, 38, 39, 40, 41, 42, 43, 44, 45, 46, 47, 48, 49, 50, 51, 52, 53, 54, 55, 56, 57, 58, 59, 60, 61, 62, 63, 64, 65, 66, 67, 68, 69, 70, 71, 72, 73, 74, 75, 76, 77, 78, 79, 80, 81, 82, 83, 84, 85, 86, 87, 88, 89, 90, 91, 92, 93, 94, 95, 96, 97, 98, 99, 100]\n"
          ]
        }
      ]
    },
    {
      "cell_type": "code",
      "source": [
        "odd_num_list = [num for num in number_list if num %2 != 0]"
      ],
      "metadata": {
        "id": "7t_jgFBOSwvA"
      },
      "execution_count": 13,
      "outputs": []
    },
    {
      "cell_type": "code",
      "source": [
        "print(odd_num_list)"
      ],
      "metadata": {
        "colab": {
          "base_uri": "https://localhost:8080/"
        },
        "id": "WNGb_0xsSvYw",
        "outputId": "345d754d-d1e5-4176-d741-c47ffcd07126"
      },
      "execution_count": 14,
      "outputs": [
        {
          "output_type": "stream",
          "name": "stdout",
          "text": [
            "[1, 3, 5, 7, 9, 11, 13, 15, 17, 19, 21, 23, 25, 27, 29, 31, 33, 35, 37, 39, 41, 43, 45, 47, 49, 51, 53, 55, 57, 59, 61, 63, 65, 67, 69, 71, 73, 75, 77, 79, 81, 83, 85, 87, 89, 91, 93, 95, 97, 99]\n"
          ]
        }
      ]
    },
    {
      "cell_type": "code",
      "source": [],
      "metadata": {
        "id": "sAZv6ZL0TFCw"
      },
      "execution_count": null,
      "outputs": []
    }
  ]
}