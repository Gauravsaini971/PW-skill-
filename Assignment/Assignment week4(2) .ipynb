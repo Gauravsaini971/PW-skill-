{
  "nbformat": 4,
  "nbformat_minor": 0,
  "metadata": {
    "colab": {
      "provenance": []
    },
    "kernelspec": {
      "name": "python3",
      "display_name": "Python 3"
    },
    "language_info": {
      "name": "python"
    }
  },
  "cells": [
    {
      "cell_type": "markdown",
      "source": [
        "## Question 1"
      ],
      "metadata": {
        "id": "He6lQjRd0fhy"
      }
    },
    {
      "cell_type": "markdown",
      "source": [
        "In object oriented programmming(OOP),a class is a blueprint of creating object (a particular data structure) providing initial values for the state(Attributes or instances) and implementation of behaviour(member function or method).\n",
        "\n",
        "Objest is an instance of the class, ehen the class in initiated,it become object that can be used in the programme. The object has its own memory space allocated. It can have its own set of member variables and member functions."
      ],
      "metadata": {
        "id": "WOIdbNvL086s"
      }
    },
    {
      "cell_type": "code",
      "execution_count": 2,
      "metadata": {
        "id": "8_mix_zF0Yh_"
      },
      "outputs": [],
      "source": [
        "class Dog:\n",
        "\n",
        "  def __init__(self,name,bread):\n",
        "    self.name = name\n",
        "    self.bread = bread\n",
        "\n",
        "  def change_name(self,new_name):\n",
        "    self.name = new_name\n",
        "    return self.name"
      ]
    },
    {
      "cell_type": "markdown",
      "source": [
        "## Example :-\n",
        "\n",
        "The dog_1 is the object here and its has a method(change_name) assign to it.\n",
        "whereas, Dog() is the class and has attribute name and bread and implementation to chage the name."
      ],
      "metadata": {
        "id": "Unt3zO-c_BcZ"
      }
    },
    {
      "cell_type": "code",
      "source": [
        "dog_1 = Dog(\"shimbha\",\"german shefard\")\n",
        "dog_1.change_name(\"jimmy\")"
      ],
      "metadata": {
        "colab": {
          "base_uri": "https://localhost:8080/",
          "height": 36
        },
        "id": "UmSVZVLO23SA",
        "outputId": "d896b1b9-0016-4eab-d865-0e5cb7772005"
      },
      "execution_count": 4,
      "outputs": [
        {
          "output_type": "execute_result",
          "data": {
            "text/plain": [
              "'jimmy'"
            ],
            "application/vnd.google.colaboratory.intrinsic+json": {
              "type": "string"
            }
          },
          "metadata": {},
          "execution_count": 4
        }
      ]
    },
    {
      "cell_type": "markdown",
      "source": [
        "## Question 2"
      ],
      "metadata": {
        "id": "Ri6G_-PtACP8"
      }
    },
    {
      "cell_type": "markdown",
      "source": [
        "The four pillars of object oriented programming are as follow :-\n",
        "\n",
        "* Polymorphism\n",
        "* Inheritance\n",
        "* Abstraction\n",
        "* Incapsulation"
      ],
      "metadata": {
        "id": "b5CeD6txAMJC"
      }
    },
    {
      "cell_type": "markdown",
      "source": [
        "## Question 3"
      ],
      "metadata": {
        "id": "hNcTVV4ZBM3z"
      }
    },
    {
      "cell_type": "markdown",
      "source": [
        "In Python, the __init__() function is used to initialize the object’s properties. It is called automatically every time the class is being used to create a new object. The __init__() function takes one parameter, which is a reference to the object itself. This parameter is usually called self. The self parameter is used to access variables that belong to the class"
      ],
      "metadata": {
        "id": "zzUUV2JeBi3Z"
      }
    },
    {
      "cell_type": "code",
      "source": [
        "class Person:\n",
        "  def __init__(self, name, age):\n",
        "    self.name = name\n",
        "    self.age = age\n",
        "\n",
        "p1 = Person(\"John\", 36)\n",
        "\n",
        "print(p1.name)\n",
        "print(p1.age)"
      ],
      "metadata": {
        "colab": {
          "base_uri": "https://localhost:8080/"
        },
        "id": "5UEbyQpI-_hg",
        "outputId": "e40ec7b9-1a66-409c-fcfd-4b9c49b8f9c5"
      },
      "execution_count": 5,
      "outputs": [
        {
          "output_type": "stream",
          "name": "stdout",
          "text": [
            "John\n",
            "36\n"
          ]
        }
      ]
    },
    {
      "cell_type": "markdown",
      "source": [
        "In this example, we define a class called Person. The __init__() function takes two parameters: name and age. These parameters are used to initialize the name and age properties of the object. We then create an object of the class called p1, passing in \"John\" and 36 as arguments. Finally, we print out the values of the name and age properties of the object"
      ],
      "metadata": {
        "id": "moq_K4qZBw6J"
      }
    },
    {
      "cell_type": "markdown",
      "source": [
        "## Question 4"
      ],
      "metadata": {
        "id": "UKNK8eR9B2_s"
      }
    },
    {
      "cell_type": "markdown",
      "source": [
        "In object-oriented programming (OOP), the self parameter is used to refer to the instance of the class. It is used to access the attributes and methods of the class. When you create an object of a class, you are creating an instance of that class. The self parameter is used to refer to that instance"
      ],
      "metadata": {
        "id": "5cGBQZLPCRhW"
      }
    },
    {
      "cell_type": "markdown",
      "source": [
        "## Question 5"
      ],
      "metadata": {
        "id": "q1bAzqp0CWkV"
      }
    },
    {
      "cell_type": "markdown",
      "source": [
        "Inheritance is a mechanism in object-oriented programming that allows one class to inherit properties and methods from another class. The class that inherits properties and methods is called the child class, and the class that is being inherited from is called the parent class. Inheritance allows you to create a new class that is a modified version of an existing class.\n",
        "\n",
        "There are four types of inheritance in Python:\n",
        "\n",
        "* Single inheritance\n",
        "* Multiple inheritance\n",
        "* Multi-level inheritance\n",
        "* Hierarchical Inheritance"
      ],
      "metadata": {
        "id": "WbwOruszCZ9l"
      }
    },
    {
      "cell_type": "code",
      "source": [
        "#single inheritance\n",
        "class animal:\n",
        "  def __init__(self,name):\n",
        "    self.name = name\n",
        "\n",
        "  def eat(self):\n",
        "    print(f\"{self.name} is eating\")\n",
        "\n",
        "class dog(animal):\n",
        "\n",
        "  def __init__(self,name):\n",
        "    self.name = name\n",
        "\n",
        "a = dog(\"puppy\")\n",
        "a.eat()"
      ],
      "metadata": {
        "colab": {
          "base_uri": "https://localhost:8080/"
        },
        "id": "yJI1PDLLCUmf",
        "outputId": "cc36f335-1860-466c-9dc5-1722f2513fc5"
      },
      "execution_count": 6,
      "outputs": [
        {
          "output_type": "stream",
          "name": "stdout",
          "text": [
            "puppy is eating\n"
          ]
        }
      ]
    },
    {
      "cell_type": "code",
      "source": [
        "# Multiple inheritance\n",
        "class area:\n",
        "  def __init__(self,side):\n",
        "    self.side = side\n",
        "\n",
        "  def get_area(self):\n",
        "    return self.side*self.side\n",
        "\n",
        "class circumference:\n",
        "\n",
        "  def __init__(self,side):\n",
        "    self.side = side\n",
        "\n",
        "  def get_circumference(self):\n",
        "    return 4*self.side\n",
        "\n",
        "class square(area,circumference):\n",
        "  pass\n",
        "\n",
        "a = square(5)\n",
        "print(a.get_area())\n",
        "print(a.get_circumference())\n"
      ],
      "metadata": {
        "colab": {
          "base_uri": "https://localhost:8080/"
        },
        "id": "7zIxHGljE1ia",
        "outputId": "1cec04bf-1213-4653-863f-0503a0fb1d50"
      },
      "execution_count": 10,
      "outputs": [
        {
          "output_type": "stream",
          "name": "stdout",
          "text": [
            "25\n",
            "20\n"
          ]
        }
      ]
    }
  ]
}